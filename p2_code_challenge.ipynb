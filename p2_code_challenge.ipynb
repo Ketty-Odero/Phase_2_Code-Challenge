{
 "cells": [
  {
   "cell_type": "markdown",
   "metadata": {
    "nbgrader": {
     "grade": false,
     "grade_id": "cell-406d340d7286364c",
     "locked": true,
     "schema_version": 3,
     "solution": false,
     "task": false
    }
   },
   "source": [
    "# Phase 2 Code Challenge\n",
    "\n",
    "This code challenge is designed to test your understanding of the Phase 2 material. It covers:\n",
    "\n",
    "- SQL\n",
    "- Bayesian Statistics\n",
    "- Normal Distribution\n",
    "- Statistical Tests\n",
    "\n",
    "_Read the instructions carefully_. You will be asked both to write code and to answer short answer questions.\n",
    "\n",
    "## Code Tests\n",
    "\n",
    "We have provided some code tests for you to run to check that your work meets the item specifications. Passing these tests does not necessarily mean that you have gotten the item correct - there are additional hidden tests. However, if any of the tests do not pass, this tells you that your code is incorrect and needs changes to meet the specification. To determine what the issue is, read the comments in the code test cells, the error message you receive, and the item instructions.\n",
    "\n",
    "## Short Answer Questions \n",
    "\n",
    "For the short answer questions...\n",
    "\n",
    "* _Use your own words_. It is OK to refer to outside resources when crafting your response, but _do not copy text from another source_.\n",
    "\n",
    "* _Communicate clearly_. We are not grading your writing skills, but you can only receive full credit if your teacher is able to fully understand your response. \n",
    "\n",
    "* _Be concise_. You should be able to answer most short answer questions in a sentence or two. Writing unnecessarily long answers increases the risk of you being unclear or saying something incorrect."
   ]
  },
  {
   "cell_type": "code",
   "execution_count": 1,
   "metadata": {
    "nbgrader": {
     "grade": false,
     "grade_id": "cell-d04c1470087d31aa",
     "locked": true,
     "schema_version": 3,
     "solution": false,
     "task": false
    }
   },
   "outputs": [],
   "source": [
    "# Run this cell without changes to import the necessary libraries\n",
    "\n",
    "import itertools\n",
    "import numpy as np\n",
    "import pandas as pd \n",
    "from numbers import Number\n",
    "import sqlite3\n",
    "from scipy import stats\n",
    "import matplotlib.pyplot as plt\n",
    "import seaborn as sns\n",
    "import warnings\n",
    "warnings.filterwarnings('ignore')\n",
    "\n",
    "import pickle"
   ]
  },
  {
   "cell_type": "markdown",
   "metadata": {},
   "source": [
    "---\n",
    "## Part 1: SQL [Suggested time: 20 minutes]\n",
    "---\n",
    "In this part, you will create and execute three SQL queries on the Chinook database. For this challenge **you will need to access the `Album` and `Artist` tables**."
   ]
  },
  {
   "cell_type": "markdown",
   "metadata": {},
   "source": [
    "### 1.1) Connect to the Database."
   ]
  },
  {
   "cell_type": "code",
   "execution_count": 2,
   "metadata": {},
   "outputs": [],
   "source": [
    "# CodeGrade step1.1\n",
    "# Replace None with appropriate code\n",
    "# Connect to the Database here (\"Chinook_Sqlite.sqlite\")\n",
    "\n",
    "path = ('./Data/Chinook_Sqlite.sqlite')\n",
    "conn = sqlite3.connect(path)"
   ]
  },
  {
   "cell_type": "code",
   "execution_count": 3,
   "metadata": {},
   "outputs": [],
   "source": [
    "# code check \n",
    "assert type(path) == str"
   ]
  },
  {
   "cell_type": "code",
   "execution_count": 4,
   "metadata": {},
   "outputs": [
    {
     "data": {
      "text/html": [
       "<div>\n",
       "<style scoped>\n",
       "    .dataframe tbody tr th:only-of-type {\n",
       "        vertical-align: middle;\n",
       "    }\n",
       "\n",
       "    .dataframe tbody tr th {\n",
       "        vertical-align: top;\n",
       "    }\n",
       "\n",
       "    .dataframe thead th {\n",
       "        text-align: right;\n",
       "    }\n",
       "</style>\n",
       "<table border=\"1\" class=\"dataframe\">\n",
       "  <thead>\n",
       "    <tr style=\"text-align: right;\">\n",
       "      <th></th>\n",
       "      <th>type</th>\n",
       "      <th>name</th>\n",
       "      <th>tbl_name</th>\n",
       "      <th>rootpage</th>\n",
       "      <th>sql</th>\n",
       "    </tr>\n",
       "  </thead>\n",
       "  <tbody>\n",
       "    <tr>\n",
       "      <th>0</th>\n",
       "      <td>table</td>\n",
       "      <td>Album</td>\n",
       "      <td>Album</td>\n",
       "      <td>2</td>\n",
       "      <td>CREATE TABLE [Album]\\n(\\n    [AlbumId] INTEGER...</td>\n",
       "    </tr>\n",
       "    <tr>\n",
       "      <th>1</th>\n",
       "      <td>table</td>\n",
       "      <td>Artist</td>\n",
       "      <td>Artist</td>\n",
       "      <td>3</td>\n",
       "      <td>CREATE TABLE [Artist]\\n(\\n    [ArtistId] INTEG...</td>\n",
       "    </tr>\n",
       "    <tr>\n",
       "      <th>2</th>\n",
       "      <td>table</td>\n",
       "      <td>Customer</td>\n",
       "      <td>Customer</td>\n",
       "      <td>4</td>\n",
       "      <td>CREATE TABLE [Customer]\\n(\\n    [CustomerId] I...</td>\n",
       "    </tr>\n",
       "    <tr>\n",
       "      <th>3</th>\n",
       "      <td>table</td>\n",
       "      <td>Employee</td>\n",
       "      <td>Employee</td>\n",
       "      <td>7</td>\n",
       "      <td>CREATE TABLE [Employee]\\n(\\n    [EmployeeId] I...</td>\n",
       "    </tr>\n",
       "    <tr>\n",
       "      <th>4</th>\n",
       "      <td>table</td>\n",
       "      <td>Genre</td>\n",
       "      <td>Genre</td>\n",
       "      <td>9</td>\n",
       "      <td>CREATE TABLE [Genre]\\n(\\n    [GenreId] INTEGER...</td>\n",
       "    </tr>\n",
       "    <tr>\n",
       "      <th>5</th>\n",
       "      <td>table</td>\n",
       "      <td>Invoice</td>\n",
       "      <td>Invoice</td>\n",
       "      <td>10</td>\n",
       "      <td>CREATE TABLE [Invoice]\\n(\\n    [InvoiceId] INT...</td>\n",
       "    </tr>\n",
       "    <tr>\n",
       "      <th>6</th>\n",
       "      <td>table</td>\n",
       "      <td>InvoiceLine</td>\n",
       "      <td>InvoiceLine</td>\n",
       "      <td>12</td>\n",
       "      <td>CREATE TABLE [InvoiceLine]\\n(\\n    [InvoiceLin...</td>\n",
       "    </tr>\n",
       "    <tr>\n",
       "      <th>7</th>\n",
       "      <td>table</td>\n",
       "      <td>MediaType</td>\n",
       "      <td>MediaType</td>\n",
       "      <td>14</td>\n",
       "      <td>CREATE TABLE [MediaType]\\n(\\n    [MediaTypeId]...</td>\n",
       "    </tr>\n",
       "    <tr>\n",
       "      <th>8</th>\n",
       "      <td>table</td>\n",
       "      <td>Playlist</td>\n",
       "      <td>Playlist</td>\n",
       "      <td>15</td>\n",
       "      <td>CREATE TABLE [Playlist]\\n(\\n    [PlaylistId] I...</td>\n",
       "    </tr>\n",
       "    <tr>\n",
       "      <th>9</th>\n",
       "      <td>table</td>\n",
       "      <td>PlaylistTrack</td>\n",
       "      <td>PlaylistTrack</td>\n",
       "      <td>16</td>\n",
       "      <td>CREATE TABLE [PlaylistTrack]\\n(\\n    [Playlist...</td>\n",
       "    </tr>\n",
       "    <tr>\n",
       "      <th>11</th>\n",
       "      <td>table</td>\n",
       "      <td>Track</td>\n",
       "      <td>Track</td>\n",
       "      <td>19</td>\n",
       "      <td>CREATE TABLE [Track]\\n(\\n    [TrackId] INTEGER...</td>\n",
       "    </tr>\n",
       "  </tbody>\n",
       "</table>\n",
       "</div>"
      ],
      "text/plain": [
       "     type           name       tbl_name  rootpage  \\\n",
       "0   table          Album          Album         2   \n",
       "1   table         Artist         Artist         3   \n",
       "2   table       Customer       Customer         4   \n",
       "3   table       Employee       Employee         7   \n",
       "4   table          Genre          Genre         9   \n",
       "5   table        Invoice        Invoice        10   \n",
       "6   table    InvoiceLine    InvoiceLine        12   \n",
       "7   table      MediaType      MediaType        14   \n",
       "8   table       Playlist       Playlist        15   \n",
       "9   table  PlaylistTrack  PlaylistTrack        16   \n",
       "11  table          Track          Track        19   \n",
       "\n",
       "                                                  sql  \n",
       "0   CREATE TABLE [Album]\\n(\\n    [AlbumId] INTEGER...  \n",
       "1   CREATE TABLE [Artist]\\n(\\n    [ArtistId] INTEG...  \n",
       "2   CREATE TABLE [Customer]\\n(\\n    [CustomerId] I...  \n",
       "3   CREATE TABLE [Employee]\\n(\\n    [EmployeeId] I...  \n",
       "4   CREATE TABLE [Genre]\\n(\\n    [GenreId] INTEGER...  \n",
       "5   CREATE TABLE [Invoice]\\n(\\n    [InvoiceId] INT...  \n",
       "6   CREATE TABLE [InvoiceLine]\\n(\\n    [InvoiceLin...  \n",
       "7   CREATE TABLE [MediaType]\\n(\\n    [MediaTypeId]...  \n",
       "8   CREATE TABLE [Playlist]\\n(\\n    [PlaylistId] I...  \n",
       "9   CREATE TABLE [PlaylistTrack]\\n(\\n    [Playlist...  \n",
       "11  CREATE TABLE [Track]\\n(\\n    [TrackId] INTEGER...  "
      ]
     },
     "execution_count": 4,
     "metadata": {},
     "output_type": "execute_result"
    }
   ],
   "source": [
    "# Run this cell without changes to see all the\n",
    "# tables in the database.\n",
    "\n",
    "df = pd.read_sql(\n",
    "    \"\"\"\n",
    "    SELECT *\n",
    "    FROM sqlite_master\n",
    "    \"\"\"\n",
    ", conn\n",
    ")\n",
    "\n",
    "df[df['type'] == 'table']"
   ]
  },
  {
   "cell_type": "markdown",
   "metadata": {},
   "source": [
    "#### Album and Artist Table Overview"
   ]
  },
  {
   "cell_type": "code",
   "execution_count": 6,
   "metadata": {},
   "outputs": [
    {
     "data": {
      "text/html": [
       "<div>\n",
       "<style scoped>\n",
       "    .dataframe tbody tr th:only-of-type {\n",
       "        vertical-align: middle;\n",
       "    }\n",
       "\n",
       "    .dataframe tbody tr th {\n",
       "        vertical-align: top;\n",
       "    }\n",
       "\n",
       "    .dataframe thead th {\n",
       "        text-align: right;\n",
       "    }\n",
       "</style>\n",
       "<table border=\"1\" class=\"dataframe\">\n",
       "  <thead>\n",
       "    <tr style=\"text-align: right;\">\n",
       "      <th></th>\n",
       "      <th>AlbumId</th>\n",
       "      <th>Title</th>\n",
       "      <th>ArtistId</th>\n",
       "    </tr>\n",
       "  </thead>\n",
       "  <tbody>\n",
       "    <tr>\n",
       "      <th>0</th>\n",
       "      <td>1</td>\n",
       "      <td>For Those About To Rock We Salute You</td>\n",
       "      <td>1</td>\n",
       "    </tr>\n",
       "    <tr>\n",
       "      <th>1</th>\n",
       "      <td>2</td>\n",
       "      <td>Balls to the Wall</td>\n",
       "      <td>2</td>\n",
       "    </tr>\n",
       "    <tr>\n",
       "      <th>2</th>\n",
       "      <td>3</td>\n",
       "      <td>Restless and Wild</td>\n",
       "      <td>2</td>\n",
       "    </tr>\n",
       "    <tr>\n",
       "      <th>3</th>\n",
       "      <td>4</td>\n",
       "      <td>Let There Be Rock</td>\n",
       "      <td>1</td>\n",
       "    </tr>\n",
       "    <tr>\n",
       "      <th>4</th>\n",
       "      <td>5</td>\n",
       "      <td>Big Ones</td>\n",
       "      <td>3</td>\n",
       "    </tr>\n",
       "    <tr>\n",
       "      <th>...</th>\n",
       "      <td>...</td>\n",
       "      <td>...</td>\n",
       "      <td>...</td>\n",
       "    </tr>\n",
       "    <tr>\n",
       "      <th>342</th>\n",
       "      <td>343</td>\n",
       "      <td>Respighi:Pines of Rome</td>\n",
       "      <td>226</td>\n",
       "    </tr>\n",
       "    <tr>\n",
       "      <th>343</th>\n",
       "      <td>344</td>\n",
       "      <td>Schubert: The Late String Quartets &amp; String Qu...</td>\n",
       "      <td>272</td>\n",
       "    </tr>\n",
       "    <tr>\n",
       "      <th>344</th>\n",
       "      <td>345</td>\n",
       "      <td>Monteverdi: L'Orfeo</td>\n",
       "      <td>273</td>\n",
       "    </tr>\n",
       "    <tr>\n",
       "      <th>345</th>\n",
       "      <td>346</td>\n",
       "      <td>Mozart: Chamber Music</td>\n",
       "      <td>274</td>\n",
       "    </tr>\n",
       "    <tr>\n",
       "      <th>346</th>\n",
       "      <td>347</td>\n",
       "      <td>Koyaanisqatsi (Soundtrack from the Motion Pict...</td>\n",
       "      <td>275</td>\n",
       "    </tr>\n",
       "  </tbody>\n",
       "</table>\n",
       "<p>347 rows × 3 columns</p>\n",
       "</div>"
      ],
      "text/plain": [
       "     AlbumId                                              Title  ArtistId\n",
       "0          1              For Those About To Rock We Salute You         1\n",
       "1          2                                  Balls to the Wall         2\n",
       "2          3                                  Restless and Wild         2\n",
       "3          4                                  Let There Be Rock         1\n",
       "4          5                                           Big Ones         3\n",
       "..       ...                                                ...       ...\n",
       "342      343                             Respighi:Pines of Rome       226\n",
       "343      344  Schubert: The Late String Quartets & String Qu...       272\n",
       "344      345                                Monteverdi: L'Orfeo       273\n",
       "345      346                              Mozart: Chamber Music       274\n",
       "346      347  Koyaanisqatsi (Soundtrack from the Motion Pict...       275\n",
       "\n",
       "[347 rows x 3 columns]"
      ]
     },
     "execution_count": 6,
     "metadata": {},
     "output_type": "execute_result"
    }
   ],
   "source": [
    "# Selecting and overview of the Album table\n",
    "q = \"\"\"\n",
    "SELECT * FROM Album;\n",
    "\"\"\"\n",
    "\n",
    "pd.read_sql(q, conn)\n"
   ]
  },
  {
   "cell_type": "code",
   "execution_count": 7,
   "metadata": {},
   "outputs": [
    {
     "data": {
      "text/html": [
       "<div>\n",
       "<style scoped>\n",
       "    .dataframe tbody tr th:only-of-type {\n",
       "        vertical-align: middle;\n",
       "    }\n",
       "\n",
       "    .dataframe tbody tr th {\n",
       "        vertical-align: top;\n",
       "    }\n",
       "\n",
       "    .dataframe thead th {\n",
       "        text-align: right;\n",
       "    }\n",
       "</style>\n",
       "<table border=\"1\" class=\"dataframe\">\n",
       "  <thead>\n",
       "    <tr style=\"text-align: right;\">\n",
       "      <th></th>\n",
       "      <th>ArtistId</th>\n",
       "      <th>Name</th>\n",
       "    </tr>\n",
       "  </thead>\n",
       "  <tbody>\n",
       "    <tr>\n",
       "      <th>0</th>\n",
       "      <td>1</td>\n",
       "      <td>AC/DC</td>\n",
       "    </tr>\n",
       "    <tr>\n",
       "      <th>1</th>\n",
       "      <td>2</td>\n",
       "      <td>Accept</td>\n",
       "    </tr>\n",
       "    <tr>\n",
       "      <th>2</th>\n",
       "      <td>3</td>\n",
       "      <td>Aerosmith</td>\n",
       "    </tr>\n",
       "    <tr>\n",
       "      <th>3</th>\n",
       "      <td>4</td>\n",
       "      <td>Alanis Morissette</td>\n",
       "    </tr>\n",
       "    <tr>\n",
       "      <th>4</th>\n",
       "      <td>5</td>\n",
       "      <td>Alice In Chains</td>\n",
       "    </tr>\n",
       "    <tr>\n",
       "      <th>...</th>\n",
       "      <td>...</td>\n",
       "      <td>...</td>\n",
       "    </tr>\n",
       "    <tr>\n",
       "      <th>270</th>\n",
       "      <td>271</td>\n",
       "      <td>Mela Tenenbaum, Pro Musica Prague &amp; Richard Kapp</td>\n",
       "    </tr>\n",
       "    <tr>\n",
       "      <th>271</th>\n",
       "      <td>272</td>\n",
       "      <td>Emerson String Quartet</td>\n",
       "    </tr>\n",
       "    <tr>\n",
       "      <th>272</th>\n",
       "      <td>273</td>\n",
       "      <td>C. Monteverdi, Nigel Rogers - Chiaroscuro; Lon...</td>\n",
       "    </tr>\n",
       "    <tr>\n",
       "      <th>273</th>\n",
       "      <td>274</td>\n",
       "      <td>Nash Ensemble</td>\n",
       "    </tr>\n",
       "    <tr>\n",
       "      <th>274</th>\n",
       "      <td>275</td>\n",
       "      <td>Philip Glass Ensemble</td>\n",
       "    </tr>\n",
       "  </tbody>\n",
       "</table>\n",
       "<p>275 rows × 2 columns</p>\n",
       "</div>"
      ],
      "text/plain": [
       "     ArtistId                                               Name\n",
       "0           1                                              AC/DC\n",
       "1           2                                             Accept\n",
       "2           3                                          Aerosmith\n",
       "3           4                                  Alanis Morissette\n",
       "4           5                                    Alice In Chains\n",
       "..        ...                                                ...\n",
       "270       271   Mela Tenenbaum, Pro Musica Prague & Richard Kapp\n",
       "271       272                             Emerson String Quartet\n",
       "272       273  C. Monteverdi, Nigel Rogers - Chiaroscuro; Lon...\n",
       "273       274                                      Nash Ensemble\n",
       "274       275                              Philip Glass Ensemble\n",
       "\n",
       "[275 rows x 2 columns]"
      ]
     },
     "execution_count": 7,
     "metadata": {},
     "output_type": "execute_result"
    }
   ],
   "source": [
    "# Selecting and overview of the Artist table\n",
    "q = \"\"\"\n",
    "SELECT * FROM Artist;\n",
    "\"\"\"\n",
    "\n",
    "pd.read_sql(q, conn)"
   ]
  },
  {
   "cell_type": "markdown",
   "metadata": {},
   "source": [
    "### Observations from Artist and Album table\n",
    "- The Artist and Album table are linked together by the Artist ID.\n",
    "- Artist ID is a foreign key on Album table but a primary key on Artist table."
   ]
  },
  {
   "cell_type": "markdown",
   "metadata": {},
   "source": [
    "### 1.2) Write a query to return the last ten artists alphabetically."
   ]
  },
  {
   "cell_type": "code",
   "execution_count": 21,
   "metadata": {},
   "outputs": [
    {
     "data": {
      "text/html": [
       "<div>\n",
       "<style scoped>\n",
       "    .dataframe tbody tr th:only-of-type {\n",
       "        vertical-align: middle;\n",
       "    }\n",
       "\n",
       "    .dataframe tbody tr th {\n",
       "        vertical-align: top;\n",
       "    }\n",
       "\n",
       "    .dataframe thead th {\n",
       "        text-align: right;\n",
       "    }\n",
       "</style>\n",
       "<table border=\"1\" class=\"dataframe\">\n",
       "  <thead>\n",
       "    <tr style=\"text-align: right;\">\n",
       "      <th></th>\n",
       "      <th>Name</th>\n",
       "    </tr>\n",
       "  </thead>\n",
       "  <tbody>\n",
       "    <tr>\n",
       "      <th>0</th>\n",
       "      <td>Zeca Pagodinho</td>\n",
       "    </tr>\n",
       "    <tr>\n",
       "      <th>1</th>\n",
       "      <td>Youssou N'Dour</td>\n",
       "    </tr>\n",
       "    <tr>\n",
       "      <th>2</th>\n",
       "      <td>Yo-Yo Ma</td>\n",
       "    </tr>\n",
       "    <tr>\n",
       "      <th>3</th>\n",
       "      <td>Yehudi Menuhin</td>\n",
       "    </tr>\n",
       "    <tr>\n",
       "      <th>4</th>\n",
       "      <td>Xis</td>\n",
       "    </tr>\n",
       "    <tr>\n",
       "      <th>5</th>\n",
       "      <td>Wilhelm Kempff</td>\n",
       "    </tr>\n",
       "    <tr>\n",
       "      <th>6</th>\n",
       "      <td>Whitesnake</td>\n",
       "    </tr>\n",
       "    <tr>\n",
       "      <th>7</th>\n",
       "      <td>Vinícius E Qurteto Em Cy</td>\n",
       "    </tr>\n",
       "    <tr>\n",
       "      <th>8</th>\n",
       "      <td>Vinícius E Odette Lara</td>\n",
       "    </tr>\n",
       "    <tr>\n",
       "      <th>9</th>\n",
       "      <td>Vinícius De Moraes &amp; Baden Powell</td>\n",
       "    </tr>\n",
       "  </tbody>\n",
       "</table>\n",
       "</div>"
      ],
      "text/plain": [
       "                                Name\n",
       "0                     Zeca Pagodinho\n",
       "1                     Youssou N'Dour\n",
       "2                           Yo-Yo Ma\n",
       "3                     Yehudi Menuhin\n",
       "4                                Xis\n",
       "5                     Wilhelm Kempff\n",
       "6                         Whitesnake\n",
       "7           Vinícius E Qurteto Em Cy\n",
       "8             Vinícius E Odette Lara\n",
       "9  Vinícius De Moraes & Baden Powell"
      ]
     },
     "execution_count": 21,
     "metadata": {},
     "output_type": "execute_result"
    }
   ],
   "source": [
    "# CodeGrade step1.2\n",
    "# Replace None with appropriate code\n",
    "# Hint: Use the Artist table!\n",
    "\"\"\"\n",
    "In this case we will select the Name column\n",
    "and order it alphabetically in descending order\n",
    "      \"\"\"\n",
    "# Code to select the data to return\n",
    "first_query = \"\"\"\n",
    "SELECT Name\n",
    "FROM Artist\n",
    "ORDER BY Name DESC\n",
    "LIMIT 10;\"\"\"\n",
    "# storing the selected to a variable last_ten_artists\n",
    "last_ten_artists = pd.read_sql(first_query, conn)\n",
    "last_ten_artists"
   ]
  },
  {
   "cell_type": "code",
   "execution_count": 14,
   "metadata": {},
   "outputs": [],
   "source": [
    "# first_query should be a string\n",
    "assert type(first_query) == str\n",
    "\n",
    "# first_query should be a SQL query\n",
    "first_query_df = pd.read_sql(first_query, conn)"
   ]
  },
  {
   "cell_type": "markdown",
   "metadata": {},
   "source": [
    "### 1.3) Write a query to return all the albums in the database from Led Zeppelin."
   ]
  },
  {
   "cell_type": "code",
   "execution_count": 20,
   "metadata": {},
   "outputs": [
    {
     "data": {
      "text/html": [
       "<div>\n",
       "<style scoped>\n",
       "    .dataframe tbody tr th:only-of-type {\n",
       "        vertical-align: middle;\n",
       "    }\n",
       "\n",
       "    .dataframe tbody tr th {\n",
       "        vertical-align: top;\n",
       "    }\n",
       "\n",
       "    .dataframe thead th {\n",
       "        text-align: right;\n",
       "    }\n",
       "</style>\n",
       "<table border=\"1\" class=\"dataframe\">\n",
       "  <thead>\n",
       "    <tr style=\"text-align: right;\">\n",
       "      <th></th>\n",
       "      <th>Title</th>\n",
       "      <th>AlbumId</th>\n",
       "      <th>Name</th>\n",
       "    </tr>\n",
       "  </thead>\n",
       "  <tbody>\n",
       "    <tr>\n",
       "      <th>0</th>\n",
       "      <td>BBC Sessions [Disc 1] [Live]</td>\n",
       "      <td>30</td>\n",
       "      <td>Led Zeppelin</td>\n",
       "    </tr>\n",
       "    <tr>\n",
       "      <th>1</th>\n",
       "      <td>Physical Graffiti [Disc 1]</td>\n",
       "      <td>44</td>\n",
       "      <td>Led Zeppelin</td>\n",
       "    </tr>\n",
       "    <tr>\n",
       "      <th>2</th>\n",
       "      <td>BBC Sessions [Disc 2] [Live]</td>\n",
       "      <td>127</td>\n",
       "      <td>Led Zeppelin</td>\n",
       "    </tr>\n",
       "    <tr>\n",
       "      <th>3</th>\n",
       "      <td>Coda</td>\n",
       "      <td>128</td>\n",
       "      <td>Led Zeppelin</td>\n",
       "    </tr>\n",
       "    <tr>\n",
       "      <th>4</th>\n",
       "      <td>Houses Of The Holy</td>\n",
       "      <td>129</td>\n",
       "      <td>Led Zeppelin</td>\n",
       "    </tr>\n",
       "    <tr>\n",
       "      <th>5</th>\n",
       "      <td>In Through The Out Door</td>\n",
       "      <td>130</td>\n",
       "      <td>Led Zeppelin</td>\n",
       "    </tr>\n",
       "    <tr>\n",
       "      <th>6</th>\n",
       "      <td>IV</td>\n",
       "      <td>131</td>\n",
       "      <td>Led Zeppelin</td>\n",
       "    </tr>\n",
       "    <tr>\n",
       "      <th>7</th>\n",
       "      <td>Led Zeppelin I</td>\n",
       "      <td>132</td>\n",
       "      <td>Led Zeppelin</td>\n",
       "    </tr>\n",
       "    <tr>\n",
       "      <th>8</th>\n",
       "      <td>Led Zeppelin II</td>\n",
       "      <td>133</td>\n",
       "      <td>Led Zeppelin</td>\n",
       "    </tr>\n",
       "    <tr>\n",
       "      <th>9</th>\n",
       "      <td>Led Zeppelin III</td>\n",
       "      <td>134</td>\n",
       "      <td>Led Zeppelin</td>\n",
       "    </tr>\n",
       "    <tr>\n",
       "      <th>10</th>\n",
       "      <td>Physical Graffiti [Disc 2]</td>\n",
       "      <td>135</td>\n",
       "      <td>Led Zeppelin</td>\n",
       "    </tr>\n",
       "    <tr>\n",
       "      <th>11</th>\n",
       "      <td>Presence</td>\n",
       "      <td>136</td>\n",
       "      <td>Led Zeppelin</td>\n",
       "    </tr>\n",
       "    <tr>\n",
       "      <th>12</th>\n",
       "      <td>The Song Remains The Same (Disc 1)</td>\n",
       "      <td>137</td>\n",
       "      <td>Led Zeppelin</td>\n",
       "    </tr>\n",
       "    <tr>\n",
       "      <th>13</th>\n",
       "      <td>The Song Remains The Same (Disc 2)</td>\n",
       "      <td>138</td>\n",
       "      <td>Led Zeppelin</td>\n",
       "    </tr>\n",
       "  </tbody>\n",
       "</table>\n",
       "</div>"
      ],
      "text/plain": [
       "                                 Title  AlbumId          Name\n",
       "0         BBC Sessions [Disc 1] [Live]       30  Led Zeppelin\n",
       "1           Physical Graffiti [Disc 1]       44  Led Zeppelin\n",
       "2         BBC Sessions [Disc 2] [Live]      127  Led Zeppelin\n",
       "3                                 Coda      128  Led Zeppelin\n",
       "4                   Houses Of The Holy      129  Led Zeppelin\n",
       "5              In Through The Out Door      130  Led Zeppelin\n",
       "6                                   IV      131  Led Zeppelin\n",
       "7                       Led Zeppelin I      132  Led Zeppelin\n",
       "8                      Led Zeppelin II      133  Led Zeppelin\n",
       "9                     Led Zeppelin III      134  Led Zeppelin\n",
       "10          Physical Graffiti [Disc 2]      135  Led Zeppelin\n",
       "11                            Presence      136  Led Zeppelin\n",
       "12  The Song Remains The Same (Disc 1)      137  Led Zeppelin\n",
       "13  The Song Remains The Same (Disc 2)      138  Led Zeppelin"
      ]
     },
     "execution_count": 20,
     "metadata": {},
     "output_type": "execute_result"
    }
   ],
   "source": [
    "# CodeGrade step1.3\n",
    "# Replace None with appropriate code\n",
    "# Hint: Use the Artist and Album tables!\n",
    "\n",
    "\"\"\"\n",
    "To return only Led Zeppelin albums,we will have to Join the \n",
    "Album and Artist table\n",
    "      \"\"\"\n",
    "\n",
    "second_query = \"\"\"\n",
    "SELECT al.Title, al.AlbumId, ar.Name\n",
    "FROM Album AS al\n",
    "JOIN Artist AS ar ON al.ArtistId = ar.ArtistId\n",
    "WHERE ar.Name = 'Led Zeppelin'\n",
    "\"\"\"\n",
    "\n",
    "Zeppelin_albums= pd.read_sql(second_query, conn)\n",
    "Zeppelin_albums"
   ]
  },
  {
   "cell_type": "markdown",
   "metadata": {},
   "source": [
    "- Insights : Led Zeppelin has a total of 14 albums"
   ]
  },
  {
   "cell_type": "code",
   "execution_count": 17,
   "metadata": {},
   "outputs": [],
   "source": [
    "# second_query should be a string\n",
    "assert type(second_query) == str\n",
    "\n",
    "# second_query should be a SQL query\n",
    "second_query_df = pd.read_sql(second_query, conn)"
   ]
  },
  {
   "cell_type": "markdown",
   "metadata": {},
   "source": [
    "### 1.4) Write a query to return both the artist with the most albums in the database and the number of albums."
   ]
  },
  {
   "cell_type": "code",
   "execution_count": 25,
   "metadata": {},
   "outputs": [
    {
     "data": {
      "text/html": [
       "<div>\n",
       "<style scoped>\n",
       "    .dataframe tbody tr th:only-of-type {\n",
       "        vertical-align: middle;\n",
       "    }\n",
       "\n",
       "    .dataframe tbody tr th {\n",
       "        vertical-align: top;\n",
       "    }\n",
       "\n",
       "    .dataframe thead th {\n",
       "        text-align: right;\n",
       "    }\n",
       "</style>\n",
       "<table border=\"1\" class=\"dataframe\">\n",
       "  <thead>\n",
       "    <tr style=\"text-align: right;\">\n",
       "      <th></th>\n",
       "      <th>Name</th>\n",
       "      <th>album_count</th>\n",
       "    </tr>\n",
       "  </thead>\n",
       "  <tbody>\n",
       "    <tr>\n",
       "      <th>0</th>\n",
       "      <td>Iron Maiden</td>\n",
       "      <td>21</td>\n",
       "    </tr>\n",
       "  </tbody>\n",
       "</table>\n",
       "</div>"
      ],
      "text/plain": [
       "          Name  album_count\n",
       "0  Iron Maiden           21"
      ]
     },
     "execution_count": 25,
     "metadata": {},
     "output_type": "execute_result"
    }
   ],
   "source": [
    "# CodeGrade step1.4\n",
    "# Replace None with appropriate code\n",
    "\"\"\"\n",
    "We perform count on albumIDs, group by artist Name\n",
    "and order by descending, we use limit to select only 1\n",
    "return the first value in this case\n",
    "      \"\"\"\n",
    "\n",
    "third_query = \"\"\"\n",
    "SELECT ar.name, COUNT(al.AlbumId) AS album_count\n",
    "FROM Artist AS ar\n",
    "JOIN Album AS al ON ar.ArtistId = al.ArtistId\n",
    "GROUP BY ar.Name\n",
    "ORDER BY album_count DESC\n",
    "LIMIT 1\n",
    "\"\"\"\n",
    "\n",
    "artist_most_albums = pd.read_sql(third_query, conn)\n",
    "artist_most_albums"
   ]
  },
  {
   "cell_type": "markdown",
   "metadata": {},
   "source": [
    "- Iron Maiden is the artist with the most albums with a total of 21"
   ]
  },
  {
   "cell_type": "code",
   "execution_count": 26,
   "metadata": {},
   "outputs": [],
   "source": [
    "# third_query should be a string\n",
    "assert type(third_query) == str\n",
    "\n",
    "# third_query should be a SQL query\n",
    "third_query_df = pd.read_sql(third_query, conn)"
   ]
  },
  {
   "cell_type": "code",
   "execution_count": 27,
   "metadata": {},
   "outputs": [],
   "source": [
    "conn.close()"
   ]
  },
  {
   "cell_type": "markdown",
   "metadata": {
    "nbgrader": {
     "grade": false,
     "grade_id": "cell-b6008343ed116f03",
     "locked": true,
     "schema_version": 3,
     "solution": false,
     "task": false
    }
   },
   "source": [
    "---\n",
    "## Part 2: Bayesian Statistics [Suggested time: 15 minutes]\n",
    "---\n",
    "\n",
    "A medical test is designed to diagnose a certain disease. The test has a false positive rate of 10%, meaning that 10% of people without the disease will get a positive test result. The test has a false negative rate of 2%, meaning that 2% of people with the disease will get a negative result. Only 1% of the population has this disease."
   ]
  },
  {
   "cell_type": "markdown",
   "metadata": {
    "nbgrader": {
     "grade": false,
     "grade_id": "cell-b6008343ed116f03",
     "locked": true,
     "schema_version": 3,
     "solution": false,
     "task": false
    }
   },
   "source": [
    "### 2.1) Create a numeric variable `p_pos_test` containing the probability of a person receiving a positive test result.\n",
    "\n",
    "Assume that the person being tested is randomly selected from the broader population."
   ]
  },
  {
   "cell_type": "code",
   "execution_count": null,
   "metadata": {
    "nbgrader": {
     "grade": false,
     "grade_id": "cell-b6008343ed116f03",
     "locked": true,
     "schema_version": 3,
     "solution": false,
     "task": false
    }
   },
   "outputs": [],
   "source": [
    "# CodeGrade step2.1\n",
    "# Replace None with appropriate code\n",
    "    \n",
    "false_pos_rate = 0.1\n",
    "false_neg_rate = 0.02\n",
    "population_rate = 0.01\n",
    "\n",
    "p_pos_test = None"
   ]
  },
  {
   "cell_type": "code",
   "execution_count": null,
   "metadata": {
    "nbgrader": {
     "grade": false,
     "grade_id": "cell-b6008343ed116f03",
     "locked": true,
     "schema_version": 3,
     "solution": false,
     "task": false
    }
   },
   "outputs": [],
   "source": [
    "# This test confirms that you have created a numeric variable named p_pos_test\n",
    "\n",
    "assert isinstance(p_pos_test, Number)"
   ]
  },
  {
   "cell_type": "code",
   "execution_count": null,
   "metadata": {
    "nbgrader": {
     "grade": false,
     "grade_id": "cell-b6008343ed116f03",
     "locked": true,
     "schema_version": 3,
     "solution": false,
     "task": false
    }
   },
   "outputs": [],
   "source": [
    "# These tests confirm that p_pos_test is a value between 0 and 1\n",
    "\n",
    "assert p_pos_test >= 0\n",
    "assert p_pos_test <= 1"
   ]
  },
  {
   "cell_type": "markdown",
   "metadata": {
    "nbgrader": {
     "grade": false,
     "grade_id": "cell-b6008343ed116f03",
     "locked": true,
     "schema_version": 3,
     "solution": false,
     "task": false
    }
   },
   "source": [
    "### 2.2) Create a numeric variable `p_disease_given_pos` containing the probability of a person actually having the disease if they receive a positive test result.\n",
    "\n",
    "Assume that the person being tested is randomly selected from the broader population.\n",
    "\n",
    "Hint: Use your answer to the previous question to help answer this one."
   ]
  },
  {
   "cell_type": "code",
   "execution_count": null,
   "metadata": {
    "nbgrader": {
     "grade": false,
     "grade_id": "cell-b6008343ed116f03",
     "locked": true,
     "schema_version": 3,
     "solution": false,
     "task": false
    }
   },
   "outputs": [],
   "source": [
    "# CodeGrade step2.2\n",
    "# Replace None with appropriate code\n",
    "    \n",
    "false_pos_rate = 0.1\n",
    "false_neg_rate = 0.02\n",
    "population_rate = 0.01\n",
    "\n",
    "p_disease_given_pos = None"
   ]
  },
  {
   "cell_type": "code",
   "execution_count": null,
   "metadata": {
    "nbgrader": {
     "grade": false,
     "grade_id": "cell-b6008343ed116f03",
     "locked": true,
     "schema_version": 3,
     "solution": false,
     "task": false
    }
   },
   "outputs": [],
   "source": [
    "# This test confirms that you have created a numeric variable named p_disease_given_pos\n",
    "\n",
    "assert isinstance(p_disease_given_pos, Number)"
   ]
  },
  {
   "cell_type": "code",
   "execution_count": null,
   "metadata": {
    "nbgrader": {
     "grade": false,
     "grade_id": "cell-b6008343ed116f03",
     "locked": true,
     "schema_version": 3,
     "solution": false,
     "task": false
    }
   },
   "outputs": [],
   "source": [
    "# These tests confirm that p_disease_given_pos is a value between 0 and 1\n",
    "\n",
    "assert p_disease_given_pos >= 0\n",
    "assert p_disease_given_pos <= 1"
   ]
  },
  {
   "cell_type": "markdown",
   "metadata": {
    "nbgrader": {
     "grade": false,
     "grade_id": "cell-312fddb195007e20",
     "locked": true,
     "schema_version": 3,
     "solution": false,
     "task": false
    }
   },
   "source": [
    "---\n",
    "## Part 3: Normal Distribution [Suggested time: 20 minutes]\n",
    "---\n",
    "In this part, you will analyze check totals at a TexMex restaurant. We know that the population distribution of check totals for the TexMex restaurant is normally distributed with a mean of \\\\$20 and a standard deviation of \\\\$3. "
   ]
  },
  {
   "cell_type": "markdown",
   "metadata": {
    "nbgrader": {
     "grade": false,
     "grade_id": "cell-46b6b6254aeeff59",
     "locked": true,
     "schema_version": 3,
     "solution": false,
     "task": false
    }
   },
   "source": [
    "### 3.1) Create a numeric variable `z_score_26` containing the z-score for a \\\\$26 check. "
   ]
  },
  {
   "cell_type": "code",
   "execution_count": 60,
   "metadata": {
    "nbgrader": {
     "grade": false,
     "grade_id": "cell-ef9660b9613a17a4",
     "locked": true,
     "schema_version": 3,
     "solution": false,
     "task": false
    }
   },
   "outputs": [],
   "source": [
    "# CodeGrade step3.1\n",
    "# Replace None with appropriate code\n",
    "# Population mean\n",
    "mu = 20\n",
    "# Population standard deviation\n",
    "sigma = 3\n",
    "# Value to check\n",
    "value = 26"
   ]
  },
  {
   "cell_type": "code",
   "execution_count": 61,
   "metadata": {},
   "outputs": [],
   "source": [
    "# Lets create a formula to help us calculate the z_score\n",
    "def z_score_calc(mu,sigma,value):\n",
    "    z_score_value = (value - mu) / sigma\n",
    "    return z_score_value"
   ]
  },
  {
   "cell_type": "code",
   "execution_count": 68,
   "metadata": {},
   "outputs": [
    {
     "name": "stdout",
     "output_type": "stream",
     "text": [
      "26 is 2.0 standard deviations away from the mean of 20.\n"
     ]
    }
   ],
   "source": [
    "# Z-score calculation\n",
    "z_score_26 = z_score_calc(mu,sigma,value)\n",
    "\n",
    "print(f'{value} is {z_score_26} standard deviations away from the mean of 20.')"
   ]
  },
  {
   "cell_type": "code",
   "execution_count": 67,
   "metadata": {},
   "outputs": [],
   "source": [
    "# This test confirms that you have created a numeric variable named z_score_26\n",
    "\n",
    "assert isinstance(z_score_26, Number)"
   ]
  },
  {
   "cell_type": "markdown",
   "metadata": {
    "nbgrader": {
     "grade": false,
     "grade_id": "cell-42d5460165295bb7",
     "locked": true,
     "schema_version": 3,
     "solution": false,
     "task": false
    }
   },
   "source": [
    "### 3.2) Create a numeric variable `p_under_26` containing the approximate proportion of all checks that are less than \\\\$26.\n",
    "\n",
    "Hint: Use the answer from the previous question along with the empirical rule, a Python function, or this [z-table](https://www.math.arizona.edu/~rsims/ma464/standardnormaltable.pdf)."
   ]
  },
  {
   "cell_type": "code",
   "execution_count": 72,
   "metadata": {
    "nbgrader": {
     "grade": false,
     "grade_id": "cell-999dca2e2a1e09ba",
     "locked": true,
     "schema_version": 3,
     "solution": false,
     "task": false
    }
   },
   "outputs": [
    {
     "name": "stdout",
     "output_type": "stream",
     "text": [
      "Proportion of checks under $ 26 are : 0.9772498680518208\n"
     ]
    }
   ],
   "source": [
    "# CodeGrade step3.2\n",
    "# Replace None with appropriate code\n",
    "\"\"\"Empirical rule is for a normal distribution\n",
    "   states that:\n",
    "   68% of data lies within 1 std.dev from mean\n",
    "   95% of data lies within 2 std.dev from mean\n",
    "   99% of data lies within 3 std.dev from mean\n",
    "\n",
    "   We will use the cdf function as we already have the z_score_26 value which is 2.0\n",
    "\"\"\"\n",
    "# getting the cumulative probability\n",
    "p_under_26 = stats.norm.cdf(z_score_26)\n",
    "print(f'Proportion of checks under $ 26 are : {p_under_26}')"
   ]
  },
  {
   "cell_type": "code",
   "execution_count": 73,
   "metadata": {},
   "outputs": [],
   "source": [
    "# This test confirms that you have created a numeric variable named p_under_26\n",
    "\n",
    "assert isinstance(p_under_26, Number)\n",
    "\n",
    "# These tests confirm that p_under_26 is a value between 0 and 1\n",
    "\n",
    "assert p_under_26 >= 0\n",
    "assert p_under_26 <= 1"
   ]
  },
  {
   "cell_type": "markdown",
   "metadata": {
    "nbgrader": {
     "grade": false,
     "grade_id": "cell-b20994e953b823df",
     "locked": true,
     "schema_version": 3,
     "solution": false,
     "task": false
    }
   },
   "source": [
    "### 3.3) Create numeric variables `conf_low` and `conf_high` containing the lower and upper bounds (respectively) of a 95% confidence interval for the mean of one waiter's check amounts using the information below. \n",
    "\n",
    "One week, a waiter gets 100 checks with a mean of \\\\$19 and a standard deviation of \\\\$3."
   ]
  },
  {
   "cell_type": "code",
   "execution_count": 77,
   "metadata": {
    "nbgrader": {
     "grade": false,
     "grade_id": "cell-a4925898f2c5bfb5",
     "locked": true,
     "schema_version": 3,
     "solution": false,
     "task": false
    }
   },
   "outputs": [],
   "source": [
    "# CodeGrade step3.3\n",
    "# Replace None with appropriate code\n",
    "# Given parameters for the sample\n",
    "n = 100  # Sample size\n",
    "mean = 19  # Sample mean\n",
    "std_dev = 3  # Sample standard deviation\n",
    "z_score = stats.norm.ppf(1 - 0.025)  # Z-score calculation for 95% confidence\n",
    "\n",
    "# function to calculate confidence intervals\n",
    "def conf_intervals(mean, std_dev,n,z_score):\n",
    "\n",
    "    standard_error = std_dev / np.sqrt(n) ## Calculate standard error\n",
    "    margin_of_error = z_score * standard_error # Calculate margin of error\n",
    "\n",
    "    # Calculate confidence interval bounds\n",
    "    conf_low = mean - margin_of_error\n",
    "    conf_high = mean + margin_of_error\n",
    "    \n",
    "    return conf_low,conf_high # out the confidence interval bounds"
   ]
  },
  {
   "cell_type": "code",
   "execution_count": 81,
   "metadata": {},
   "outputs": [],
   "source": [
    "conf_low, conf_high = conf_intervals(mean, std_dev,n,z_score) # returning intervals values"
   ]
  },
  {
   "cell_type": "code",
   "execution_count": 82,
   "metadata": {},
   "outputs": [
    {
     "name": "stdout",
     "output_type": "stream",
     "text": [
      "The lower bound of the 95% confidence interval is 18.412010804637983\n",
      "The upper bound of the 95% confidence interval is 19.587989195362017\n"
     ]
    }
   ],
   "source": [
    "# These tests confirm that you have created numeric variables named conf_low and conf_high\n",
    "\n",
    "assert isinstance(conf_low, Number)\n",
    "assert isinstance(conf_high, Number)\n",
    "\n",
    "# This test confirms that conf_low is below conf_high\n",
    "\n",
    "assert conf_low < conf_high\n",
    "\n",
    "# These statements print your answers for reference to help answer the next question\n",
    "\n",
    "print('The lower bound of the 95% confidence interval is {}'.format(conf_low))\n",
    "print('The upper bound of the 95% confidence interval is {}'.format(conf_high))"
   ]
  },
  {
   "cell_type": "markdown",
   "metadata": {
    "nbgrader": {
     "grade": false,
     "grade_id": "cell-fb9ed0f70c9bd8de",
     "locked": true,
     "schema_version": 3,
     "solution": false,
     "task": false
    }
   },
   "source": [
    "### 3.4) Short Answer: Interpret the 95% confidence interval you just calculated in Question 1.3."
   ]
  },
  {
   "cell_type": "markdown",
   "metadata": {},
   "source": [
    "# Your answer here\n",
    "- We are 95 % confident that the average check amount (true mean) for this particular waiter\n",
    "lies between $18.41 and $19.59.\n",
    "\n"
   ]
  },
  {
   "cell_type": "markdown",
   "metadata": {
    "nbgrader": {
     "grade": false,
     "grade_id": "cell-782ab283e22ce5ae",
     "locked": true,
     "schema_version": 3,
     "solution": false,
     "task": false
    }
   },
   "source": [
    "---\n",
    "## Part 4: Statistical Testing [Suggested time: 20 minutes]\n",
    "---\n",
    "The TexMex restaurant recently introduced queso to its menu.\n",
    "\n",
    "We have a random sample containing 2000 check totals, all from different customers: 1000 check totals for orders without queso (\"no queso\") and 1000 check totals for orders with queso (\"queso\").\n",
    "\n",
    "In the cell below, we load the sample data for you into the arrays `no_queso` and `queso` for the \"no queso\" and \"queso\" order check totals, respectively."
   ]
  },
  {
   "cell_type": "code",
   "execution_count": 84,
   "metadata": {
    "nbgrader": {
     "grade": false,
     "grade_id": "cell-fdba1826c45c244d",
     "locked": true,
     "schema_version": 3,
     "solution": false,
     "task": false
    },
    "scrolled": true
   },
   "outputs": [],
   "source": [
    "# Run this cell without changes\n",
    "\n",
    "# Load the sample data \n",
    "no_queso = pickle.load(open('./Data/no_queso.pkl', 'rb'))\n",
    "queso = pickle.load(open('./Data/queso.pkl', 'rb'))"
   ]
  },
  {
   "cell_type": "code",
   "execution_count": 93,
   "metadata": {},
   "outputs": [
    {
     "data": {
      "text/plain": [
       "array([20.76208262, 19.05591169, 23.60883165, 18.86548483, 20.1789019 ,\n",
       "       23.99491885, 20.83968986, 21.4196737 , 23.18272129, 19.51304723,\n",
       "       20.13113424, 19.33255256, 22.02801213, 18.29757387, 21.5205384 ,\n",
       "       20.36246988, 15.36369287, 22.14506588, 20.74096877, 21.34613048,\n",
       "       19.04649928, 21.19421907, 18.05346712, 19.2460241 , 20.89018538,\n",
       "       20.32616936, 20.12840299, 22.5123332 , 21.12502229, 20.81840909,\n",
       "       20.8493497 , 21.85997954, 20.70179038, 15.94821923, 18.71995485,\n",
       "       19.45120616, 20.26613608, 19.60064071, 21.43618496, 21.06875426,\n",
       "       19.09333362, 15.47326799, 15.71881468, 20.57883631, 19.3065353 ,\n",
       "       17.8447982 , 17.64383574, 20.16732761, 22.20487025, 20.15068564,\n",
       "       19.02025688, 19.16883799, 19.23658427, 22.04059674, 20.34058307,\n",
       "       21.46508589, 24.52706282, 23.86234975, 18.10425805, 17.29910567,\n",
       "       21.63024792, 19.12781092, 19.99376256, 19.19692644, 15.32107239,\n",
       "       19.13340171, 20.62452759, 20.59388838, 21.27382898, 18.1881541 ,\n",
       "       20.19226479, 21.31614782, 22.58509101, 19.39509475, 19.05728898,\n",
       "       20.03536139, 22.68131733, 20.41139425, 22.02507957, 19.05591169,\n",
       "       14.70664829, 21.40406524, 22.78370445, 19.46843419, 22.82605049,\n",
       "       21.86300018, 18.08263316, 20.16732761, 21.03559139, 21.58683557,\n",
       "       22.84590928, 24.09779885, 22.88399426, 21.31614782, 19.18011333,\n",
       "       20.62030415, 22.25681716, 22.05636236, 17.45753631, 22.38626703,\n",
       "       20.40229779, 19.3586181 , 19.9176511 , 19.21525375, 21.52561791,\n",
       "       23.68799761, 21.58996627, 21.33284223, 16.01040124, 18.86548483,\n",
       "       21.18469295, 22.70021032, 16.65095777, 20.11274454, 17.44553049,\n",
       "       21.67836288, 21.27452176, 20.48828564, 19.2591765 , 22.16345175,\n",
       "       19.35927524, 22.50615622, 17.18448771, 22.00915209, 20.12898218,\n",
       "       23.08598432, 19.98014856, 16.84027528, 20.55088483, 19.00317116,\n",
       "       17.93516634, 22.52692609, 18.23249589, 18.59078333, 19.88957927,\n",
       "       18.21490686, 22.77136929, 24.41773973, 16.51384518, 19.54663533,\n",
       "       22.65297613, 19.6945075 , 17.49962667, 20.42681288, 20.17980042,\n",
       "       19.34856394, 19.27907654, 17.57739078, 19.30369414, 23.10132113,\n",
       "       18.7009033 , 19.28041082, 18.65440447, 18.16995217, 21.65946296,\n",
       "       17.85653041, 21.89765853, 21.04487844, 22.66725549, 15.18547407,\n",
       "       21.66562787, 20.29514194, 21.32028684, 20.90796685, 19.19088728,\n",
       "       21.12417904, 22.10790621, 21.67715224, 19.25306231, 19.40707469,\n",
       "       19.6722011 , 20.32961264, 16.37639605, 19.68645148, 21.16412219,\n",
       "       19.55986114, 16.21401625, 18.68021741, 19.82917331, 17.5692611 ,\n",
       "       19.96401525, 19.98014856, 19.08205955, 19.38687908, 18.22079415,\n",
       "       18.69344514, 20.8902807 , 21.71466632, 20.6180478 , 19.90871793,\n",
       "       22.51846791, 22.9090713 , 19.69953301, 20.71293788, 20.64342418,\n",
       "       21.77491467, 24.19270936, 19.20709949, 16.40204624, 21.61485414,\n",
       "       21.11294117, 19.63185319, 19.04662155, 19.17287725, 22.79863397,\n",
       "       19.67530943, 21.51594258, 19.73249942, 22.1323641 , 20.82732358,\n",
       "       21.90448086, 18.16258478, 18.32606905, 17.56899826, 20.91098711,\n",
       "       16.25030032, 20.08114747, 21.71901472, 20.56080375, 16.51006966,\n",
       "       18.78500536, 20.96269579, 17.25002509, 23.06999193, 18.8868536 ,\n",
       "       19.6232313 , 20.1236503 , 17.7363711 , 22.62507086, 19.1832676 ,\n",
       "       21.66708958, 21.48803377, 23.78290383, 20.14066682, 20.31989896,\n",
       "       24.0022939 , 16.65095777, 19.42331651, 19.79876508, 22.48590901,\n",
       "       18.66046632, 19.764585  , 16.63953781, 16.06107024, 20.87643084,\n",
       "       20.57881021, 19.8432444 , 23.20604822, 23.05116118, 21.89434111,\n",
       "       17.90054703, 17.89098667, 20.66400815, 16.99262414, 18.14583535,\n",
       "       18.75254767, 18.50981279, 23.50562156, 19.08393323, 21.33367039,\n",
       "       21.66578432, 19.83801381, 20.41139425, 23.77357026, 19.67860475,\n",
       "       19.4990573 , 20.01792608, 20.57943082, 18.42342418, 22.34704416,\n",
       "       19.68620814, 17.84767381, 19.74289088, 21.42301789, 20.99637717,\n",
       "       17.94112246, 19.57907895, 22.61895511, 20.29717932, 19.04649928,\n",
       "       20.65308473, 20.95833266, 16.24816954, 17.10981075, 17.05632705,\n",
       "       21.25437638, 17.18424366, 20.4066734 , 21.61985995, 21.62178997,\n",
       "       20.48477647, 17.16705618, 21.04487844, 17.09880661, 22.76556738,\n",
       "       22.65256716, 21.17960352, 23.11120961, 19.0801575 , 21.42394592,\n",
       "       20.24924989, 17.75009037, 18.43288561, 19.6213881 , 18.98029002,\n",
       "       18.27013345, 23.54636246, 19.18295455, 18.14054427, 16.10376764,\n",
       "       20.91594254, 17.9611555 , 17.29812065, 21.38196436, 16.90464287,\n",
       "       19.46044487, 19.71015327, 20.18691496, 21.0853786 , 14.4987349 ,\n",
       "       21.63142065, 17.85816881, 21.24125195, 21.32542327, 20.39915474,\n",
       "       23.57397681, 19.93942711, 20.70524743, 19.58476377, 21.55415381,\n",
       "       19.58882193, 16.49856557, 21.25370119, 21.51295982, 20.59376312,\n",
       "       18.13748402, 19.91049334, 17.96339801, 20.19752536, 19.28093942,\n",
       "       18.66749225, 19.12892417, 19.90409443, 17.199091  , 21.0392079 ,\n",
       "       20.37712582, 18.50444977, 18.87444134, 19.1658763 , 20.32778694,\n",
       "       18.85086118, 20.66519602, 21.87372741, 18.97044156, 21.66708958,\n",
       "       20.65465371, 19.1777378 , 18.93520138, 19.60781268, 20.36246988,\n",
       "       21.18240471, 19.63113194, 22.01486567, 15.81530616, 22.34968951,\n",
       "       20.31398513, 22.7131654 , 17.07061971, 21.33284223, 21.27880171,\n",
       "       20.52946671, 20.60310088, 19.17761289, 19.92051962, 19.33255256,\n",
       "       16.7841584 , 18.31038397, 23.16827985, 18.28537357, 20.63376744,\n",
       "       16.49329313, 19.08388913, 20.56657047, 18.90532298, 20.39577071,\n",
       "       19.88995219, 26.28028481, 19.71313218, 20.89972931, 20.76257442,\n",
       "       20.58414814, 18.9612321 , 16.22403651, 21.08215324, 21.88823055,\n",
       "       20.62263197, 18.1505547 , 18.8910575 , 19.764585  , 17.83729608,\n",
       "       19.29787829, 21.31727164, 19.38576206, 15.91993266, 22.45204671,\n",
       "       21.82606171, 26.19381896, 20.64676199, 21.76540611, 20.26477705,\n",
       "       17.01662189, 18.08716661, 16.64798818, 21.87428236, 19.25531862,\n",
       "       17.83763262, 21.88434331, 22.77034996, 20.60870978, 20.51241827,\n",
       "       19.74628006, 20.82975202, 19.54697551, 16.40103934, 19.99834542,\n",
       "       21.22178592, 22.23599675, 19.31470961, 21.31722025, 16.8682708 ,\n",
       "       18.91783233, 19.7411647 , 16.3833706 , 20.92298103, 20.39453233,\n",
       "       18.41960531, 20.7919327 , 23.43777789, 17.27160448, 19.27811563,\n",
       "       18.93245569, 18.65650714, 23.06923449, 22.62092976, 20.94271629,\n",
       "       20.96689128, 18.27922856, 18.21725314, 21.22226908, 20.09435277,\n",
       "       20.57020357, 21.51295982, 22.08307659, 23.99491885, 19.04249772,\n",
       "       21.73806396, 22.66725549, 18.26106361, 19.42296697, 21.5567301 ,\n",
       "       21.84284635, 22.86933435, 21.70866146, 19.37510654, 19.90871793,\n",
       "       16.51952363, 21.28746377, 21.9077587 , 20.72643163, 17.25594907,\n",
       "       17.78066931, 18.44516158, 20.68960377, 20.04834391, 17.83650495,\n",
       "       23.13122232, 18.7860022 , 19.78961922, 19.81546362, 15.70179675,\n",
       "       20.50877402, 19.23814882, 21.50133943, 21.79538821, 17.90575468,\n",
       "       21.61113189, 19.07630939, 22.93895422, 20.08372887, 22.33759272,\n",
       "       17.6962692 , 17.41674665, 18.98768013, 19.8915414 , 23.07694575,\n",
       "       21.35496297, 21.36281221, 21.15302059, 16.94184721, 19.98362438,\n",
       "       22.54690789, 18.8742956 , 17.94997658, 22.49307249, 21.27382898,\n",
       "       20.29258474, 20.44320326, 20.26613608, 17.62079155, 20.83488683,\n",
       "       20.08114747, 24.28880413, 19.6839419 , 17.58186154, 17.49252748,\n",
       "       20.6057742 , 16.4794471 , 22.10246444, 18.60887343, 21.00955642,\n",
       "       20.18055906, 21.11865856, 19.94238963, 21.42927489, 18.32718178,\n",
       "       23.206395  , 21.4196737 , 20.71401158, 17.39493344, 21.94639976,\n",
       "       22.05636236, 19.29728342, 20.25149904, 25.12164216, 16.1661313 ,\n",
       "       20.76705029, 21.38622493, 21.41422366, 21.38091834, 19.40859415,\n",
       "       19.42906851, 21.28573356, 16.37639605, 22.25052899, 18.63921122,\n",
       "       23.81906803, 19.78961922, 23.60430993, 19.81770793, 18.26641224,\n",
       "       21.62042257, 20.84818309, 19.66298341, 18.99592205, 19.61608943,\n",
       "       13.65052983, 20.12169836, 16.24816954, 17.78196518, 19.90418185,\n",
       "       20.48908252, 22.30128895, 18.32325892, 20.83252303, 17.96384414,\n",
       "       21.50564386, 17.99108531, 17.62452806, 22.48134541, 20.65193432,\n",
       "       20.34321203, 20.29389022, 23.99983332, 21.52847065, 18.43394938,\n",
       "       21.73463244, 21.42244685, 21.86954717, 22.69980868, 18.99700805,\n",
       "       15.38147285, 18.97651979, 17.29383971, 23.30142363, 20.98923772,\n",
       "       20.38778033, 19.97119623, 21.43064125, 21.93242378, 16.72610791,\n",
       "       18.15316729, 20.37132995, 18.82128713, 20.88263201, 23.53721728,\n",
       "       19.09241117, 24.20955096, 21.28746377, 17.1109657 , 22.69304789,\n",
       "       19.63168764, 22.12602132, 18.68021741, 17.86654363, 19.9607514 ,\n",
       "       20.70302146, 19.02306321, 20.68395412, 20.14703346, 20.99978111,\n",
       "       22.27703692, 20.9114624 , 19.81546362, 19.9882093 , 23.1918496 ,\n",
       "       19.94707797, 17.19994945, 20.63165872, 21.2350903 , 24.52842952,\n",
       "       20.8493497 , 19.68645148, 21.13945092, 20.73350415, 20.49207597,\n",
       "       19.41317788, 21.82853152, 22.38819793, 20.50562962, 18.76584477,\n",
       "       18.04729258, 20.67377304, 18.36359133, 20.92964808, 22.93027699,\n",
       "       18.83041053, 20.63118259, 18.73421447, 22.7958576 , 21.32846532,\n",
       "       21.47822153, 19.62981045, 19.12650135, 19.91551368, 21.53190947,\n",
       "       16.47338878, 21.73263734, 20.94028492, 22.58565173, 20.54849079,\n",
       "       17.43657168, 24.43706903, 17.56954684, 15.35081524, 16.61245092,\n",
       "       18.15591149, 18.66749225, 20.93288403, 20.61203212, 20.49545383,\n",
       "       20.08087223, 20.58978241, 18.03756583, 18.90349804, 21.83591558,\n",
       "       17.17078739, 21.21704286, 21.57381295, 19.11325502, 17.54711271,\n",
       "       18.82896889, 19.78308784, 18.82378226, 18.14262334, 17.52817973,\n",
       "       17.90352529, 19.36549187, 24.18523658, 21.00831033, 19.45631603,\n",
       "       19.56810266, 15.09364988, 18.98528729, 20.91836855, 20.49878098,\n",
       "       18.59339512, 21.4435538 , 18.37770676, 20.9185071 , 19.96386502,\n",
       "       20.57613202, 19.51053114, 18.61553304, 21.43658038, 21.08621077,\n",
       "       17.54919364, 18.59618475, 17.14702068, 18.67761435, 15.71204331,\n",
       "       19.29883772, 21.66578432, 19.50033489, 19.71115976, 16.59747742,\n",
       "       17.50314276, 23.94936132, 20.78766339, 24.57158486, 19.57466072,\n",
       "       20.94525277, 18.87204771, 18.34207135, 20.26654267, 21.68889707,\n",
       "       18.03331872, 23.33674881, 23.22723663, 17.89189522, 23.11579547,\n",
       "       19.07443731, 18.04365436, 20.63885532, 19.20883218, 23.01753675,\n",
       "       21.10190156, 17.37821403, 19.8475618 , 18.2040921 , 21.42078998,\n",
       "       19.0988345 , 22.17041827, 21.93978227, 17.89578386, 19.61491472,\n",
       "       18.66021184, 17.36377603, 20.44860212, 20.40735078, 20.58261075,\n",
       "       24.03099683, 21.93839651, 21.15765604, 18.50981279, 15.9201895 ,\n",
       "       22.42730007, 21.81199257, 20.2950183 , 18.04219898, 18.66021184,\n",
       "       22.33804642, 18.4109398 , 20.1060308 , 20.95466293, 19.22964799,\n",
       "       22.02979156, 21.17159538, 19.8484696 , 16.48150259, 19.89241165,\n",
       "       20.39577071, 21.42731132, 21.66363473, 19.03429324, 18.4171497 ,\n",
       "       20.00768734, 22.92266704, 22.50460259, 20.19752536, 20.43231609,\n",
       "       18.5947252 , 21.24123726, 18.43856718, 20.18828654, 17.93310059,\n",
       "       20.91836855, 18.86938861, 17.17283382, 20.1061543 , 18.63921122,\n",
       "       21.36281221, 18.87776179, 22.01631367, 20.14761855, 20.81132916,\n",
       "       22.77170096, 20.5074394 , 20.08901165, 20.38053994, 22.77170096,\n",
       "       19.3259543 , 20.79586952, 20.33391071, 19.73319075, 23.57572768,\n",
       "       21.12151814, 21.08783648, 20.11299704, 20.43460754, 18.11280655,\n",
       "       17.71050818, 18.09462322, 23.15748962, 22.72444395, 23.88819448,\n",
       "       17.87309423, 18.33812042, 22.7158868 , 22.37173724, 19.84797688,\n",
       "       20.18105556, 23.30625413, 20.50855506, 16.77753117, 19.72641691,\n",
       "       22.03461388, 22.85714407, 21.32520234, 20.46642083, 17.0339164 ,\n",
       "       16.33174117, 19.77519506, 18.93245569, 19.52557581, 19.40552902,\n",
       "       19.30098219, 19.12104412, 19.01705905, 18.17821538, 19.02344986,\n",
       "       18.93826138, 22.27038408, 20.40539691, 17.27199941, 20.03075902,\n",
       "       20.62082989, 20.69665364, 19.70407449, 18.62273965, 22.58323058,\n",
       "       19.6686264 , 19.40076903, 24.15181034, 19.45964952, 17.0339164 ,\n",
       "       20.79221652, 18.03756583, 22.04598303, 21.4949787 , 20.23673182,\n",
       "       21.05339355, 23.18098639, 22.02073651, 20.79143843, 17.10317666,\n",
       "       20.03975463, 16.61634703, 19.26100229, 18.24855671, 18.02325418,\n",
       "       19.81486762, 19.70988598, 19.2190581 , 20.63951352, 18.32710658,\n",
       "       19.1006225 , 20.51360657, 16.601003  , 18.89007699, 18.48954461,\n",
       "       21.35950272, 16.82874324, 21.63384959, 20.94359305, 19.2551301 ,\n",
       "       15.78648817, 18.10598406, 23.24789576, 19.78308784, 17.46722283,\n",
       "       21.10844997, 21.52045044, 20.64173559, 17.5692611 , 21.5567301 ,\n",
       "       17.91411413, 19.06992393, 21.45633716, 20.42511018, 20.08609148,\n",
       "       20.60563315, 20.31953737, 17.72285286, 22.48656577, 18.14543642,\n",
       "       20.50562962, 18.07205753, 22.89099303, 21.33750742, 19.97195319,\n",
       "       18.60695855, 23.29801202, 17.54324992, 18.66636158, 22.56501617,\n",
       "       21.51570579, 19.94976102, 23.00237347, 22.22829263, 24.07779873,\n",
       "       18.6773417 , 19.02598209, 17.37843656, 21.27645076, 19.87768883,\n",
       "       18.75926711, 19.66615297, 19.92571877, 21.60580612, 22.27134112,\n",
       "       21.86009634, 18.83156974, 19.60468402, 21.87513283, 20.6666365 ,\n",
       "       17.75694069, 20.00366664, 21.0130074 , 19.07994235, 15.99526861,\n",
       "       21.05635221, 19.6934558 , 20.66044909, 20.00228993, 17.5160751 ,\n",
       "       17.9923129 , 19.74507657, 17.98480622, 19.44617163, 20.0491104 ,\n",
       "       19.46352326, 22.23586773, 18.34131014, 21.71852028, 24.72339676,\n",
       "       21.28573356, 17.29812065, 17.4898486 , 19.1832676 , 19.68620814,\n",
       "       17.99687604, 19.35517059, 22.36895813, 17.10981075, 19.65984473,\n",
       "       20.00153461, 19.89938391, 22.94704798, 21.0414223 , 20.23701121,\n",
       "       21.073227  , 20.35900477, 18.9612321 , 22.10632748, 20.58491577,\n",
       "       18.0979636 , 20.53307236, 17.6962692 , 20.62578142, 23.14509976,\n",
       "       20.84970536, 19.48400873, 20.13813882, 18.60695855, 24.52842952,\n",
       "       22.12602132, 21.62178997, 20.61261137, 21.99011064, 19.4379886 ,\n",
       "       17.74711185, 20.42581548, 21.82853152, 17.28909476, 19.25574627,\n",
       "       19.18246573, 19.45654531, 18.88929966, 20.51896899, 19.33668698,\n",
       "       20.42974054, 17.76005414, 20.89109634, 18.74785501, 16.67634877,\n",
       "       21.61661465, 19.79411903, 19.70528257, 24.25792231, 18.05415836])"
      ]
     },
     "execution_count": 93,
     "metadata": {},
     "output_type": "execute_result"
    }
   ],
   "source": [
    "# overview of no_queso dataset\n",
    "no_queso"
   ]
  },
  {
   "cell_type": "code",
   "execution_count": 94,
   "metadata": {},
   "outputs": [
    {
     "data": {
      "text/plain": [
       "array([26.97807562, 22.72530344, 23.35517059, 25.84424472, 21.78817823,\n",
       "       23.5587682 , 25.17046161, 23.20609596, 24.91594254, 23.70988598,\n",
       "       27.21854064, 21.96533878, 23.7910371 , 23.10737216, 23.92571877,\n",
       "       26.58509101, 26.92438147, 24.85809827, 25.2370226 , 25.08783648,\n",
       "       24.81712453, 24.85934812, 25.00960109, 24.06915995, 24.46659514,\n",
       "       18.16359821, 24.57590231, 22.18972375, 21.40393965, 24.54994884,\n",
       "       24.14834469, 23.77071055, 23.90484263, 21.20048517, 25.94548819,\n",
       "       21.58285893, 21.07981967, 23.32849001, 23.31008277, 23.03582268,\n",
       "       25.64492369, 26.16136946, 28.52706282, 22.82938089, 20.71893042,\n",
       "       23.40399299, 20.60951075, 24.04821151, 24.60310088, 24.50855506,\n",
       "       23.55962659, 26.08925996, 25.44630417, 24.72852808, 22.34732902,\n",
       "       23.05953638, 21.49689096, 23.1777378 , 19.58048064, 23.98778545,\n",
       "       25.0071159 , 26.38575668, 23.42837113, 19.56954552, 22.69811073,\n",
       "       21.28382072, 22.34933632, 24.08514354, 25.93474824, 22.81087793,\n",
       "       23.70992034, 21.9564078 , 22.17586381, 23.6213881 , 26.7131654 ,\n",
       "       24.17585749, 26.41222761, 24.85070204, 21.60254947, 27.05605737,\n",
       "       22.10908623, 22.45109406, 26.07650807, 24.25149904, 23.23652336,\n",
       "       25.31134688, 26.32571378, 23.31020581, 24.23175095, 23.06855199,\n",
       "       24.12169836, 24.41627679, 22.30876182, 23.81887059, 28.17596436,\n",
       "       25.87016575, 24.57758316, 22.92825197, 20.82762426, 24.06132925,\n",
       "       27.10197293, 22.37651795, 25.06638421, 27.51835438, 24.71629734,\n",
       "       26.29525483, 23.99040015, 23.20807296, 28.57479526, 20.49377489,\n",
       "       24.40177931, 24.26471092, 22.78457353, 26.80812535, 21.10050083,\n",
       "       24.80314696, 20.08480422, 23.02058272, 21.94452857, 25.58996627,\n",
       "       20.55246272, 22.68702285, 22.32358105, 23.31729743, 24.84615564,\n",
       "       24.32714695, 23.50014546, 24.93999052, 24.05008157, 22.09322108,\n",
       "       22.70187946, 24.02113979, 26.53326461, 23.11843302, 24.36150064,\n",
       "       23.69539333, 28.76084332, 21.48225729, 19.77691448, 24.4739292 ,\n",
       "       26.14754908, 22.3504463 , 26.6139068 , 21.20320225, 24.62375505,\n",
       "       23.17525091, 23.37407154, 25.2185034 , 24.19276193, 24.46228175,\n",
       "       24.4423641 , 27.41939068, 23.48811324, 22.9278899 , 24.50134467,\n",
       "       22.7367729 , 25.94894002, 21.31915785, 24.02523636, 21.96564688,\n",
       "       24.03975463, 25.95066548, 24.39739199, 24.81920372, 19.70179675,\n",
       "       26.7958576 , 22.08416665, 26.20114224, 24.99684186, 22.5983893 ,\n",
       "       23.57110239, 23.46520095, 24.35900477, 23.30280187, 27.30045446,\n",
       "       23.99246337, 25.33284223, 22.76875029, 21.86108515, 19.36676375,\n",
       "       24.14718445, 21.25465885, 24.34155536, 24.06087107, 26.22237439,\n",
       "       23.81770793, 23.76338637, 25.05339355, 24.12852353, 26.91902324,\n",
       "       20.20889584, 22.29245   , 22.75800024, 24.06070075, 24.54347683,\n",
       "       24.67641506, 27.76523135, 22.0017673 , 23.92703681, 23.17041515,\n",
       "       26.27716687, 18.38028306, 22.54366022, 22.91448948, 24.35120532,\n",
       "       20.71312244, 25.36917979, 28.05753561, 20.0588167 , 28.61513011,\n",
       "       21.46385466, 22.05958366, 23.67105587, 23.74949624, 23.6305577 ,\n",
       "       23.96324647, 25.41222112, 24.00735788, 26.57311294, 23.18086045,\n",
       "       25.42927489, 26.88756466, 26.22781809, 25.32641115, 23.91493973,\n",
       "       24.12971199, 24.1871982 , 24.92784215, 26.2367841 , 22.48580877,\n",
       "       22.32421898, 21.0083955 , 19.89318826, 22.0358963 , 22.11211771,\n",
       "       21.25490488, 21.66999921, 24.14927644, 25.12154829, 27.35979043,\n",
       "       27.93491634, 21.98188037, 24.18105556, 24.76763068, 22.1063239 ,\n",
       "       26.37376527, 25.16852211, 21.45582614, 23.68224925, 22.6803616 ,\n",
       "       25.71766622, 26.03277645, 22.03368269, 27.27441838, 23.79876508,\n",
       "       23.10788413, 20.6964651 , 25.59633511, 24.33789114, 23.45775192,\n",
       "       25.00831033, 25.39027975, 22.83975478, 24.91464817, 26.36557718,\n",
       "       24.49885484, 24.82975202, 23.52557581, 23.31343604, 20.92405824,\n",
       "       25.08218559, 21.78163163, 22.93416697, 23.00991656, 22.96572205,\n",
       "       24.60870978, 23.14922521, 26.17954261, 21.68150989, 24.21307555,\n",
       "       23.54014183, 18.89478985, 22.37814387, 25.50512312, 22.03518926,\n",
       "       24.23259544, 26.17676366, 24.99978111, 26.84846029, 25.74902794,\n",
       "       27.01963956, 22.97872082, 23.51178421, 22.55705569, 24.38701938,\n",
       "       21.280032  , 25.30433973, 24.81891461, 26.12774051, 28.96982205,\n",
       "       26.75915991, 24.73560241, 22.92806426, 26.69304789, 28.15253991,\n",
       "       23.50033489, 22.47907638, 23.78829327, 23.16883799, 26.2237194 ,\n",
       "       27.39133861, 25.92216023, 25.35920426, 25.20604281, 24.89908702,\n",
       "       22.14665891, 19.18129057, 24.61205629, 23.75569057, 26.35177785,\n",
       "       19.36369287, 27.43036924, 23.5478424 , 19.44142512, 26.96854075,\n",
       "       24.22406929, 23.00498529, 23.35316154, 22.83154802, 27.09795864,\n",
       "       22.26415797, 24.45561135, 26.04424133, 22.32846882, 21.85436313,\n",
       "       22.71568284, 18.81344684, 25.14548654, 23.62196815, 21.48954119,\n",
       "       25.93254521, 24.28289873, 27.91237858, 23.09607447, 22.71660739,\n",
       "       23.26395808, 24.31355269, 28.92172103, 25.97681284, 22.53671557,\n",
       "       22.50916407, 22.30858146, 23.5321993 , 20.53341309, 23.37658039,\n",
       "       25.01733409, 22.73702942, 24.83849624, 25.3738171 , 25.90743328,\n",
       "       23.16785193, 22.26251272, 25.6489683 , 25.30102769, 22.43609049,\n",
       "       25.40593408, 24.52995728, 22.84546057, 21.4898486 , 26.81468146,\n",
       "       24.66001061, 23.51304723, 22.64880284, 24.95337935, 20.62844031,\n",
       "       24.09933005, 24.08978307, 23.75330716, 25.50024568, 27.60430993,\n",
       "       21.99268782, 20.5558399 , 21.32388016, 26.04439086, 22.02236453,\n",
       "       24.82485418, 22.9943753 , 23.55947073, 23.38576206, 23.54167606,\n",
       "       24.25584634, 20.57197191, 22.06576659, 24.92566464, 27.45380321,\n",
       "       23.9232317 , 23.9588486 , 22.15063079, 20.56565504, 24.23673182,\n",
       "       24.22762431, 27.18513004, 23.2639289 , 25.6320577 , 24.35324522,\n",
       "       25.40182688, 25.28946979, 24.5626138 , 24.2610368 , 24.33391071,\n",
       "       20.35588958, 24.61011792, 21.13423642, 26.52692609, 23.96864024,\n",
       "       24.94028492, 27.82159262, 19.77781206, 23.85238858, 21.83538382,\n",
       "       22.45857537, 25.03935029, 29.28401834, 21.00461537, 24.20009494,\n",
       "       24.73679767, 22.35333006, 25.47164355, 24.29583091, 24.86236894,\n",
       "       26.134473  , 22.53317543, 21.66195059, 23.18929581, 23.0332621 ,\n",
       "       23.35776517, 25.83885249, 25.22178592, 22.50926757, 21.7189632 ,\n",
       "       22.2506003 , 25.58163231, 26.43143062, 24.75341104, 24.77981153,\n",
       "       26.66347607, 24.57883631, 24.2273245 , 25.230755  , 24.59571148,\n",
       "       26.07017069, 25.41690639, 26.22829263, 21.23540993, 23.84023907,\n",
       "       26.70724669, 22.43556963, 23.49829142, 23.65681539, 22.68671169,\n",
       "       21.48897106, 21.98480622, 22.34447985, 22.48104543, 21.02562787,\n",
       "       24.91223237, 24.07116492, 24.04426347, 24.21015945, 19.99192326,\n",
       "       22.72239747, 25.42531622, 22.35200889, 23.36772498, 24.06986027,\n",
       "       25.24120402, 24.42604875, 27.77100364, 24.87703744, 24.26781454,\n",
       "       21.39420659, 23.64909885, 24.78937548, 24.03505912, 23.64716275,\n",
       "       24.13525023, 26.87653474, 24.90785344, 24.48344226, 26.34704416,\n",
       "       23.6942716 , 26.25673117, 20.50146857, 24.53981469, 24.73391603,\n",
       "       22.85428862, 22.08022529, 25.73280839, 19.63328895, 18.96676334,\n",
       "       25.09671143, 22.61821003, 23.58339829, 24.75128326, 26.904621  ,\n",
       "       25.29731911, 23.01846302, 23.01016105, 22.48448321, 25.08325631,\n",
       "       23.74212092, 24.93329068, 27.59427739, 25.03743913, 24.45575304,\n",
       "       26.84395895, 23.06974832, 23.1597853 , 22.85580751, 26.54706539,\n",
       "       25.18516146, 22.2665847 , 21.76005414, 24.5907855 , 25.94290303,\n",
       "       24.52798004, 27.50758963, 23.80980487, 23.6254584 , 23.73580759,\n",
       "       22.82529329, 22.1270724 , 26.24203695, 22.87720555, 25.59818425,\n",
       "       21.88741232, 21.47122665, 24.23701121, 29.11338014, 24.46160662,\n",
       "       23.2673062 , 24.23766742, 25.84420204, 25.10209162, 24.61861878,\n",
       "       23.2551301 , 26.36033928, 22.29617659, 24.25763801, 22.0452652 ,\n",
       "       29.3640297 , 24.17763146, 18.2593005 , 22.73131833, 24.49878098,\n",
       "       24.33149058, 23.51056773, 25.50603167, 23.49850388, 28.52842952,\n",
       "       22.93427842, 21.3788026 , 24.90329859, 23.63971843, 22.50975357,\n",
       "       27.80869317, 23.74289088, 24.06238436, 23.54663533, 20.58019126,\n",
       "       22.02947952, 25.96634373, 23.72679122, 25.7770927 , 23.38280765,\n",
       "       25.42731132, 25.10112497, 20.26409096, 21.4543528 , 24.13118727,\n",
       "       21.29910567, 22.61469769, 22.40098882, 22.93753282, 24.51413159,\n",
       "       25.5181512 , 23.92757331, 25.00518973, 22.9251199 , 19.96201335,\n",
       "       26.86840058, 26.0527165 , 20.40520146, 25.6782084 , 25.70426653,\n",
       "       22.69867694, 24.65121707, 22.97770104, 23.92590181, 20.51952363,\n",
       "       26.34968951, 21.72997265, 27.33268425, 25.10803654, 20.94184721,\n",
       "       22.25071075, 26.96253393, 26.66189576, 22.99113106, 19.96124334,\n",
       "       25.65946296, 27.12259891, 22.50444977, 27.03120808, 23.63229091,\n",
       "       22.26760225, 23.52391462, 27.78478302, 23.15189341, 22.11255121,\n",
       "       24.58940811, 23.21525375, 23.04404825, 22.6208175 , 23.09389186,\n",
       "       22.9048174 , 24.54808531, 26.7305348 , 23.20185382, 22.22169456,\n",
       "       28.36381133, 25.30132488, 21.65337414, 26.0769371 , 21.43876744,\n",
       "       22.39221419, 21.93108529, 27.75595333, 23.58448256, 24.60315478,\n",
       "       23.16044236, 26.73963064, 23.16516965, 26.11741777, 22.80103811,\n",
       "       26.26989972, 24.76486676, 27.04557836, 26.15946338, 25.39762048,\n",
       "       25.26820455, 26.27038408, 22.48531022, 25.35541672, 21.1086895 ,\n",
       "       23.63185319, 25.62042257, 20.51788752, 20.04311866, 26.35666219,\n",
       "       19.93994621, 22.01878511, 26.10861603, 24.7133032 , 24.85909838,\n",
       "       19.45980598, 26.36823375, 24.67228582, 27.41463993, 20.90355279,\n",
       "       24.65912131, 24.82197729, 25.50643558, 27.11579547, 26.15751928,\n",
       "       24.41786444, 24.13319287, 24.92895818, 25.04463047, 24.9023843 ,\n",
       "       21.34067376, 26.71744262, 22.87263408, 22.85980685, 25.41900903,\n",
       "       22.92766754, 24.79000292, 25.02534513, 23.79734116, 26.15028237,\n",
       "       25.11865856, 22.9008411 , 23.12628454, 21.18521563, 26.63103451,\n",
       "       24.1236503 , 23.5589887 , 23.19257608, 24.70145478, 20.87162574,\n",
       "       19.9201895 , 21.05807938, 24.36186695, 27.88819448, 27.63781506,\n",
       "       27.36406773, 25.00643303, 25.91304389, 26.76054721, 23.28202654,\n",
       "       23.9387514 , 25.91485908, 22.49687676, 25.09529221, 23.9428416 ,\n",
       "       21.10456692, 25.08784746, 22.83098422, 27.55478139, 23.27141486,\n",
       "       24.03747234, 23.68670199, 21.66810725, 22.45118192, 23.793813  ,\n",
       "       29.34852997, 23.38608498, 23.053079  , 22.2823772 , 22.87646676,\n",
       "       25.64522589, 25.15043435, 21.41778128, 25.18593385, 21.90670337,\n",
       "       20.0623076 , 20.01179403, 26.3606456 , 24.82433627, 26.07078863,\n",
       "       21.99985814, 22.78500536, 22.92785638, 26.40128948, 25.62030063,\n",
       "       22.9119996 , 20.80236074, 25.31999087, 25.52762036, 23.56215098,\n",
       "       27.27623636, 23.87624569, 27.54324262, 23.24111615, 23.82526448,\n",
       "       20.62792951, 21.89578386, 26.60667288, 22.96703885, 25.78797643,\n",
       "       26.33433495, 23.31420291, 27.08598432, 23.36260499, 23.13056471,\n",
       "       22.79526709, 26.59095817, 20.65757228, 25.94015541, 22.32639922,\n",
       "       22.21619439, 22.70583587, 23.87252444, 22.89275944, 24.74107145,\n",
       "       20.91966542, 23.50849396, 26.52115837, 27.64665088, 24.23104732,\n",
       "       23.73602164, 22.52585298, 25.98480323, 26.15700721, 25.79453784,\n",
       "       23.79339826, 25.54631632, 23.25540097, 25.91864389, 23.6686264 ,\n",
       "       24.7187874 , 23.41984452, 24.53294727, 25.91712582, 24.28071783,\n",
       "       23.56471741, 23.20226228, 24.63620924, 23.54516998, 23.24775042,\n",
       "       21.0220607 , 23.47808571, 22.04652538, 23.81140804, 24.63376744,\n",
       "       19.76314341, 23.66257898, 24.8613559 , 21.28528972, 23.02489917,\n",
       "       26.07664182, 25.19585175, 24.19254458, 24.73061857, 25.81199257,\n",
       "       23.87293193, 20.61496113, 23.19160846, 23.34293071, 23.67441227,\n",
       "       23.37641774, 24.09756859, 24.06209654, 25.4497429 , 21.91670264,\n",
       "       23.37997021, 21.59750778, 22.47526446, 22.67973391, 22.78210479,\n",
       "       25.21139503, 25.32821765, 23.23765624, 25.3192541 , 22.8701095 ,\n",
       "       24.64955096, 24.8251346 , 25.13274671, 19.18094348, 24.91082665,\n",
       "       23.80951319, 25.48836773, 22.33578763, 26.79786042, 26.09888802,\n",
       "       22.73414938, 27.10132113, 26.24201568, 22.32650197, 26.61292763,\n",
       "       27.34358108, 26.60126795, 24.82444804, 27.36213   , 24.71746894,\n",
       "       25.03748021, 21.03005176, 26.03403227, 25.95288423, 20.65153042,\n",
       "       23.45535025, 23.71226982, 21.05941323, 22.47630325, 24.30418951,\n",
       "       23.03864309, 23.84802986, 26.19010705, 25.62178997, 24.04155586,\n",
       "       21.63305493, 19.78995357, 25.38341238, 23.47377071, 22.91886499,\n",
       "       24.85160088, 28.20328223, 23.56784477, 23.53025666, 23.9593866 ,\n",
       "       23.1786465 , 24.64334752, 19.79041823, 23.02749326, 19.83553908,\n",
       "       24.87930468, 20.27516859, 22.13658137, 24.88263201, 21.11444792,\n",
       "       25.82051935, 25.30625229, 21.94937732, 26.85065624, 27.14893204,\n",
       "       24.6666365 , 22.07606228, 23.20303879, 27.42080778, 22.06316992,\n",
       "       26.35220612, 24.2188215 , 25.11224238, 23.52252345, 23.46639611,\n",
       "       21.8712582 , 24.87146038, 24.17729852, 23.98014856, 25.44420273,\n",
       "       25.37053408, 25.5675729 , 23.72220992, 24.53495566, 26.70949569,\n",
       "       24.92392382, 24.19752536, 23.51206156, 23.61708593, 23.15098593,\n",
       "       25.70948845, 23.50762087, 25.47470344, 23.97219542, 23.6899263 ,\n",
       "       22.6812916 , 23.2823501 , 24.58491577, 27.64398828, 22.75191252,\n",
       "       25.83791658, 25.17854647, 22.932846  , 24.23404498, 27.03120504,\n",
       "       22.78100113, 23.66798376, 22.09678836, 22.01766195, 25.68127567,\n",
       "       24.95197437, 25.2119188 , 21.92226226, 24.05316731, 25.65785657,\n",
       "       24.61290133, 22.91598872, 23.27966318, 25.84019793, 28.15181034,\n",
       "       24.88503147, 23.68989913, 26.03140334, 26.36043278, 24.18658589,\n",
       "       24.96075586, 24.42868648, 25.97139308, 26.72348209, 21.72234853,\n",
       "       25.1154324 , 22.9827929 , 25.65019973, 24.56892226, 25.03559139,\n",
       "       24.02772889, 25.28334069, 23.58690994, 25.18209877, 24.18188654,\n",
       "       22.34595958, 20.41174131, 24.57510304, 23.83006409, 23.02306321,\n",
       "       20.56352047, 24.83548564, 24.02917493, 25.61164717, 22.86548811,\n",
       "       24.50949836, 22.84643051, 22.43319631, 25.31614782, 23.83759532,\n",
       "       21.51356294, 23.45910304, 18.09503835, 21.70126782, 29.88467148,\n",
       "       21.5422316 , 22.23296502, 21.60512933, 22.15351715, 26.45104073,\n",
       "       25.7706117 , 22.31762436, 20.809122  , 23.01751427, 22.62040747])"
      ]
     },
     "execution_count": 94,
     "metadata": {},
     "output_type": "execute_result"
    }
   ],
   "source": [
    "#overview of queso dataset\n",
    "queso"
   ]
  },
  {
   "cell_type": "code",
   "execution_count": 98,
   "metadata": {},
   "outputs": [
    {
     "name": "stdout",
     "output_type": "stream",
     "text": [
      "<class 'numpy.ndarray'> <class 'numpy.ndarray'>\n"
     ]
    }
   ],
   "source": [
    "# checking data types\n",
    "print(type(queso),type(queso))"
   ]
  },
  {
   "cell_type": "markdown",
   "metadata": {
    "nbgrader": {
     "grade": false,
     "grade_id": "cell-05f7dc82e438a77f",
     "locked": true,
     "schema_version": 3,
     "solution": false,
     "task": false
    }
   },
   "source": [
    "### 4.1) Short Answer: State null and alternative hypotheses to use for testing whether customers who order queso spend different amounts of money from customers who do not order queso."
   ]
  },
  {
   "cell_type": "code",
   "execution_count": 105,
   "metadata": {},
   "outputs": [
    {
     "name": "stdout",
     "output_type": "stream",
     "text": [
      "Average spend for queso customers is 23.992814607054243 and that of no_queso customers is 20.047532509358607\n"
     ]
    }
   ],
   "source": [
    "# calculating the mean average spending for queso and no_queso\n",
    "Avg_spend_queso = queso.mean()\n",
    "Aveg_spend_no_queso = no_queso.mean()\n",
    "print( f'Average spend for queso customers is {Avg_spend_queso} and that of no_queso customers is {Aveg_spend_no_queso}')"
   ]
  },
  {
   "cell_type": "markdown",
   "metadata": {},
   "source": [
    "# Your answer here\n",
    "- Null hypothesis: There is no difference in spending amounts between queso and non_queso customer\n",
    "- Alternative hypothesis: There is significant differences in spending amount between queso and no_queso customers\n",
    "\n"
   ]
  },
  {
   "cell_type": "markdown",
   "metadata": {
    "nbgrader": {
     "grade": false,
     "grade_id": "cell-483bc2fff57780fa",
     "locked": true,
     "schema_version": 3,
     "solution": false,
     "task": false
    }
   },
   "source": [
    "### 4.2) Short Answer: What would it mean to make a Type I error for this specific hypothesis test?\n",
    "\n",
    "Your answer should be _specific to this context,_  not a general statement of what Type I error is."
   ]
  },
  {
   "cell_type": "markdown",
   "metadata": {},
   "source": [
    "# Your answer here\n",
    "- Type 1 error is rejecting the null hypothesis when it is actually true.\n",
    " In this scenario type 1 error would mean rejecting the null hypothesis that there is no difference in spending\n",
    " between queso and non_queso customers. In that case we will be favoring the alternative hypothesis which shows significant differences in spending which actually might not be true\n",
    "\n"
   ]
  },
  {
   "cell_type": "markdown",
   "metadata": {
    "nbgrader": {
     "grade": false,
     "grade_id": "cell-b044519654b42877",
     "locked": true,
     "schema_version": 3,
     "solution": false,
     "task": false
    }
   },
   "source": [
    "### 4.3) Create a numeric variable `p_value` containing the p-value associated with a statistical test of your hypotheses. \n",
    "\n",
    "You must identify and implement the correct statistical test for this scenario. You can assume the two samples have equal variances.\n",
    "\n",
    "Hint: Use `scipy.stats` to calculate the answer - it has already been imported as `stats`. Relevant documentation can be found [here](https://docs.scipy.org/doc/scipy/reference/stats.html#statistical-tests)."
   ]
  },
  {
   "cell_type": "code",
   "execution_count": 107,
   "metadata": {
    "nbgrader": {
     "grade": false,
     "grade_id": "cell-db4a0aa68c4107d0",
     "locked": true,
     "schema_version": 3,
     "solution": false,
     "task": false
    }
   },
   "outputs": [
    {
     "data": {
      "text/plain": [
       "1.29670967092511e-307"
      ]
     },
     "execution_count": 107,
     "metadata": {},
     "output_type": "execute_result"
    }
   ],
   "source": [
    "# CodeGrade step4.3\n",
    "# Replace None with appropriate code\n",
    "\"\"\"We will use a Two sample T-test to compare the 2 means between queso and non_queso values\n",
    "which are all numerical value.Both queso and non_queso are the two populations we are comparing to determine \n",
    "if the means are actually equal or different\"\"\"\n",
    "# calculating the t-statistic and p-value\n",
    "t_statistic, p_value = stats.ttest_ind(queso,no_queso)\n",
    "# assigning t-tests values to variable results\n",
    "results = t_statistic, p_value\n",
    "# Returning on the p_value\n",
    "p_value = results[1]\n",
    "p_value"
   ]
  },
  {
   "cell_type": "code",
   "execution_count": 108,
   "metadata": {},
   "outputs": [],
   "source": [
    "# This test confirms that you have created a numeric variable named p_value\n",
    "\n",
    "assert isinstance(p_value, Number)"
   ]
  },
  {
   "cell_type": "markdown",
   "metadata": {
    "nbgrader": {
     "grade": false,
     "grade_id": "cell-98db6e15784f2ead",
     "locked": true,
     "schema_version": 3,
     "solution": false,
     "task": false
    }
   },
   "source": [
    "### 4.4) Short Answer: Can you reject the null hypothesis using a significance level of $\\alpha$ = 0.05? Explain why or why not."
   ]
  },
  {
   "cell_type": "code",
   "execution_count": 110,
   "metadata": {},
   "outputs": [
    {
     "name": "stdout",
     "output_type": "stream",
     "text": [
      "Reject null hypothesis\n"
     ]
    }
   ],
   "source": [
    "# Formula to reject or fail to reject null hypothesis based on p_value\n",
    "alpha = 0.05\n",
    "if p_value < alpha :\n",
    "    print(f\"Reject null hypothesis\")\n",
    "else:\n",
    "    print(f\"Fail to reject the null hypothesis\")"
   ]
  },
  {
   "cell_type": "markdown",
   "metadata": {},
   "source": [
    "# Your answer here\n",
    "- We reject the null hypothesis. This shows that the means of the two group are significantly different\n",
    "- In summary queso ordering customers spends an average ($ 23.99). This is $ 3.95 more,  compared to no_queso ordering customers who spend an average of ($ 20.04).\n",
    "\n"
   ]
  }
 ],
 "metadata": {
  "celltoolbar": "Create Assignment",
  "kernelspec": {
   "display_name": "learn-env",
   "language": "python",
   "name": "python3"
  },
  "language_info": {
   "codemirror_mode": {
    "name": "ipython",
    "version": 3
   },
   "file_extension": ".py",
   "mimetype": "text/x-python",
   "name": "python",
   "nbconvert_exporter": "python",
   "pygments_lexer": "ipython3",
   "version": "3.8.5"
  },
  "toc": {
   "base_numbering": 1,
   "nav_menu": {},
   "number_sections": true,
   "sideBar": true,
   "skip_h1_title": false,
   "title_cell": "Table of Contents",
   "title_sidebar": "Contents",
   "toc_cell": false,
   "toc_position": {},
   "toc_section_display": true,
   "toc_window_display": false
  }
 },
 "nbformat": 4,
 "nbformat_minor": 4
}
