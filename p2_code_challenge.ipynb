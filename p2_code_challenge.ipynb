{
 "cells": [
  {
   "cell_type": "markdown",
   "metadata": {
    "nbgrader": {
     "grade": false,
     "grade_id": "cell-406d340d7286364c",
     "locked": true,
     "schema_version": 3,
     "solution": false,
     "task": false
    }
   },
   "source": [
    "# Phase 2 Code Challenge\n",
    "\n",
    "This code challenge is designed to test your understanding of the Phase 2 material. It covers:\n",
    "\n",
    "- SQL\n",
    "- Bayesian Statistics\n",
    "- Normal Distribution\n",
    "- Statistical Tests\n",
    "\n",
    "_Read the instructions carefully_. You will be asked both to write code and to answer short answer questions.\n",
    "\n",
    "## Code Tests\n",
    "\n",
    "We have provided some code tests for you to run to check that your work meets the item specifications. Passing these tests does not necessarily mean that you have gotten the item correct - there are additional hidden tests. However, if any of the tests do not pass, this tells you that your code is incorrect and needs changes to meet the specification. To determine what the issue is, read the comments in the code test cells, the error message you receive, and the item instructions.\n",
    "\n",
    "## Short Answer Questions \n",
    "\n",
    "For the short answer questions...\n",
    "\n",
    "* _Use your own words_. It is OK to refer to outside resources when crafting your response, but _do not copy text from another source_.\n",
    "\n",
    "* _Communicate clearly_. We are not grading your writing skills, but you can only receive full credit if your teacher is able to fully understand your response. \n",
    "\n",
    "* _Be concise_. You should be able to answer most short answer questions in a sentence or two. Writing unnecessarily long answers increases the risk of you being unclear or saying something incorrect."
   ]
  },
  {
   "cell_type": "code",
   "execution_count": 1,
   "metadata": {
    "nbgrader": {
     "grade": false,
     "grade_id": "cell-d04c1470087d31aa",
     "locked": true,
     "schema_version": 3,
     "solution": false,
     "task": false
    }
   },
   "outputs": [],
   "source": [
    "# Run this cell without changes to import the necessary libraries\n",
    "\n",
    "import itertools\n",
    "import numpy as np\n",
    "import pandas as pd \n",
    "from numbers import Number\n",
    "import sqlite3\n",
    "from scipy import stats\n",
    "import matplotlib.pyplot as plt\n",
    "import seaborn as sns\n",
    "import warnings\n",
    "warnings.filterwarnings('ignore')\n",
    "\n",
    "import pickle"
   ]
  },
  {
   "cell_type": "markdown",
   "metadata": {},
   "source": [
    "---\n",
    "## Part 1: SQL [Suggested time: 20 minutes]\n",
    "---\n",
    "In this part, you will create and execute three SQL queries on the Chinook database. For this challenge **you will need to access the `Album` and `Artist` tables**."
   ]
  },
  {
   "cell_type": "markdown",
   "metadata": {},
   "source": [
    "### 1.1) Connect to the Database."
   ]
  },
  {
   "cell_type": "code",
   "execution_count": 2,
   "metadata": {},
   "outputs": [],
   "source": [
    "# CodeGrade step1.1\n",
    "# Replace None with appropriate code\n",
    "# Connect to the Database here (\"Chinook_Sqlite.sqlite\")\n",
    "\n",
    "path = ('./Data/Chinook_Sqlite.sqlite')\n",
    "conn = sqlite3.connect(path)"
   ]
  },
  {
   "cell_type": "code",
   "execution_count": 3,
   "metadata": {},
   "outputs": [],
   "source": [
    "# code check \n",
    "assert type(path) == str"
   ]
  },
  {
   "cell_type": "code",
   "execution_count": 4,
   "metadata": {},
   "outputs": [
    {
     "data": {
      "text/html": [
       "<div>\n",
       "<style scoped>\n",
       "    .dataframe tbody tr th:only-of-type {\n",
       "        vertical-align: middle;\n",
       "    }\n",
       "\n",
       "    .dataframe tbody tr th {\n",
       "        vertical-align: top;\n",
       "    }\n",
       "\n",
       "    .dataframe thead th {\n",
       "        text-align: right;\n",
       "    }\n",
       "</style>\n",
       "<table border=\"1\" class=\"dataframe\">\n",
       "  <thead>\n",
       "    <tr style=\"text-align: right;\">\n",
       "      <th></th>\n",
       "      <th>type</th>\n",
       "      <th>name</th>\n",
       "      <th>tbl_name</th>\n",
       "      <th>rootpage</th>\n",
       "      <th>sql</th>\n",
       "    </tr>\n",
       "  </thead>\n",
       "  <tbody>\n",
       "    <tr>\n",
       "      <th>0</th>\n",
       "      <td>table</td>\n",
       "      <td>Album</td>\n",
       "      <td>Album</td>\n",
       "      <td>2</td>\n",
       "      <td>CREATE TABLE [Album]\\n(\\n    [AlbumId] INTEGER...</td>\n",
       "    </tr>\n",
       "    <tr>\n",
       "      <th>1</th>\n",
       "      <td>table</td>\n",
       "      <td>Artist</td>\n",
       "      <td>Artist</td>\n",
       "      <td>3</td>\n",
       "      <td>CREATE TABLE [Artist]\\n(\\n    [ArtistId] INTEG...</td>\n",
       "    </tr>\n",
       "    <tr>\n",
       "      <th>2</th>\n",
       "      <td>table</td>\n",
       "      <td>Customer</td>\n",
       "      <td>Customer</td>\n",
       "      <td>4</td>\n",
       "      <td>CREATE TABLE [Customer]\\n(\\n    [CustomerId] I...</td>\n",
       "    </tr>\n",
       "    <tr>\n",
       "      <th>3</th>\n",
       "      <td>table</td>\n",
       "      <td>Employee</td>\n",
       "      <td>Employee</td>\n",
       "      <td>7</td>\n",
       "      <td>CREATE TABLE [Employee]\\n(\\n    [EmployeeId] I...</td>\n",
       "    </tr>\n",
       "    <tr>\n",
       "      <th>4</th>\n",
       "      <td>table</td>\n",
       "      <td>Genre</td>\n",
       "      <td>Genre</td>\n",
       "      <td>9</td>\n",
       "      <td>CREATE TABLE [Genre]\\n(\\n    [GenreId] INTEGER...</td>\n",
       "    </tr>\n",
       "    <tr>\n",
       "      <th>5</th>\n",
       "      <td>table</td>\n",
       "      <td>Invoice</td>\n",
       "      <td>Invoice</td>\n",
       "      <td>10</td>\n",
       "      <td>CREATE TABLE [Invoice]\\n(\\n    [InvoiceId] INT...</td>\n",
       "    </tr>\n",
       "    <tr>\n",
       "      <th>6</th>\n",
       "      <td>table</td>\n",
       "      <td>InvoiceLine</td>\n",
       "      <td>InvoiceLine</td>\n",
       "      <td>12</td>\n",
       "      <td>CREATE TABLE [InvoiceLine]\\n(\\n    [InvoiceLin...</td>\n",
       "    </tr>\n",
       "    <tr>\n",
       "      <th>7</th>\n",
       "      <td>table</td>\n",
       "      <td>MediaType</td>\n",
       "      <td>MediaType</td>\n",
       "      <td>14</td>\n",
       "      <td>CREATE TABLE [MediaType]\\n(\\n    [MediaTypeId]...</td>\n",
       "    </tr>\n",
       "    <tr>\n",
       "      <th>8</th>\n",
       "      <td>table</td>\n",
       "      <td>Playlist</td>\n",
       "      <td>Playlist</td>\n",
       "      <td>15</td>\n",
       "      <td>CREATE TABLE [Playlist]\\n(\\n    [PlaylistId] I...</td>\n",
       "    </tr>\n",
       "    <tr>\n",
       "      <th>9</th>\n",
       "      <td>table</td>\n",
       "      <td>PlaylistTrack</td>\n",
       "      <td>PlaylistTrack</td>\n",
       "      <td>16</td>\n",
       "      <td>CREATE TABLE [PlaylistTrack]\\n(\\n    [Playlist...</td>\n",
       "    </tr>\n",
       "    <tr>\n",
       "      <th>11</th>\n",
       "      <td>table</td>\n",
       "      <td>Track</td>\n",
       "      <td>Track</td>\n",
       "      <td>19</td>\n",
       "      <td>CREATE TABLE [Track]\\n(\\n    [TrackId] INTEGER...</td>\n",
       "    </tr>\n",
       "  </tbody>\n",
       "</table>\n",
       "</div>"
      ],
      "text/plain": [
       "     type           name       tbl_name  rootpage  \\\n",
       "0   table          Album          Album         2   \n",
       "1   table         Artist         Artist         3   \n",
       "2   table       Customer       Customer         4   \n",
       "3   table       Employee       Employee         7   \n",
       "4   table          Genre          Genre         9   \n",
       "5   table        Invoice        Invoice        10   \n",
       "6   table    InvoiceLine    InvoiceLine        12   \n",
       "7   table      MediaType      MediaType        14   \n",
       "8   table       Playlist       Playlist        15   \n",
       "9   table  PlaylistTrack  PlaylistTrack        16   \n",
       "11  table          Track          Track        19   \n",
       "\n",
       "                                                  sql  \n",
       "0   CREATE TABLE [Album]\\n(\\n    [AlbumId] INTEGER...  \n",
       "1   CREATE TABLE [Artist]\\n(\\n    [ArtistId] INTEG...  \n",
       "2   CREATE TABLE [Customer]\\n(\\n    [CustomerId] I...  \n",
       "3   CREATE TABLE [Employee]\\n(\\n    [EmployeeId] I...  \n",
       "4   CREATE TABLE [Genre]\\n(\\n    [GenreId] INTEGER...  \n",
       "5   CREATE TABLE [Invoice]\\n(\\n    [InvoiceId] INT...  \n",
       "6   CREATE TABLE [InvoiceLine]\\n(\\n    [InvoiceLin...  \n",
       "7   CREATE TABLE [MediaType]\\n(\\n    [MediaTypeId]...  \n",
       "8   CREATE TABLE [Playlist]\\n(\\n    [PlaylistId] I...  \n",
       "9   CREATE TABLE [PlaylistTrack]\\n(\\n    [Playlist...  \n",
       "11  CREATE TABLE [Track]\\n(\\n    [TrackId] INTEGER...  "
      ]
     },
     "execution_count": 4,
     "metadata": {},
     "output_type": "execute_result"
    }
   ],
   "source": [
    "# Run this cell without changes to see all the\n",
    "# tables in the database.\n",
    "\n",
    "df = pd.read_sql(\n",
    "    \"\"\"\n",
    "    SELECT *\n",
    "    FROM sqlite_master\n",
    "    \"\"\"\n",
    ", conn\n",
    ")\n",
    "\n",
    "df[df['type'] == 'table']"
   ]
  },
  {
   "cell_type": "markdown",
   "metadata": {},
   "source": [
    "#### Album and Artist Table Overview"
   ]
  },
  {
   "cell_type": "code",
   "execution_count": 6,
   "metadata": {},
   "outputs": [
    {
     "data": {
      "text/html": [
       "<div>\n",
       "<style scoped>\n",
       "    .dataframe tbody tr th:only-of-type {\n",
       "        vertical-align: middle;\n",
       "    }\n",
       "\n",
       "    .dataframe tbody tr th {\n",
       "        vertical-align: top;\n",
       "    }\n",
       "\n",
       "    .dataframe thead th {\n",
       "        text-align: right;\n",
       "    }\n",
       "</style>\n",
       "<table border=\"1\" class=\"dataframe\">\n",
       "  <thead>\n",
       "    <tr style=\"text-align: right;\">\n",
       "      <th></th>\n",
       "      <th>AlbumId</th>\n",
       "      <th>Title</th>\n",
       "      <th>ArtistId</th>\n",
       "    </tr>\n",
       "  </thead>\n",
       "  <tbody>\n",
       "    <tr>\n",
       "      <th>0</th>\n",
       "      <td>1</td>\n",
       "      <td>For Those About To Rock We Salute You</td>\n",
       "      <td>1</td>\n",
       "    </tr>\n",
       "    <tr>\n",
       "      <th>1</th>\n",
       "      <td>2</td>\n",
       "      <td>Balls to the Wall</td>\n",
       "      <td>2</td>\n",
       "    </tr>\n",
       "    <tr>\n",
       "      <th>2</th>\n",
       "      <td>3</td>\n",
       "      <td>Restless and Wild</td>\n",
       "      <td>2</td>\n",
       "    </tr>\n",
       "    <tr>\n",
       "      <th>3</th>\n",
       "      <td>4</td>\n",
       "      <td>Let There Be Rock</td>\n",
       "      <td>1</td>\n",
       "    </tr>\n",
       "    <tr>\n",
       "      <th>4</th>\n",
       "      <td>5</td>\n",
       "      <td>Big Ones</td>\n",
       "      <td>3</td>\n",
       "    </tr>\n",
       "    <tr>\n",
       "      <th>...</th>\n",
       "      <td>...</td>\n",
       "      <td>...</td>\n",
       "      <td>...</td>\n",
       "    </tr>\n",
       "    <tr>\n",
       "      <th>342</th>\n",
       "      <td>343</td>\n",
       "      <td>Respighi:Pines of Rome</td>\n",
       "      <td>226</td>\n",
       "    </tr>\n",
       "    <tr>\n",
       "      <th>343</th>\n",
       "      <td>344</td>\n",
       "      <td>Schubert: The Late String Quartets &amp; String Qu...</td>\n",
       "      <td>272</td>\n",
       "    </tr>\n",
       "    <tr>\n",
       "      <th>344</th>\n",
       "      <td>345</td>\n",
       "      <td>Monteverdi: L'Orfeo</td>\n",
       "      <td>273</td>\n",
       "    </tr>\n",
       "    <tr>\n",
       "      <th>345</th>\n",
       "      <td>346</td>\n",
       "      <td>Mozart: Chamber Music</td>\n",
       "      <td>274</td>\n",
       "    </tr>\n",
       "    <tr>\n",
       "      <th>346</th>\n",
       "      <td>347</td>\n",
       "      <td>Koyaanisqatsi (Soundtrack from the Motion Pict...</td>\n",
       "      <td>275</td>\n",
       "    </tr>\n",
       "  </tbody>\n",
       "</table>\n",
       "<p>347 rows × 3 columns</p>\n",
       "</div>"
      ],
      "text/plain": [
       "     AlbumId                                              Title  ArtistId\n",
       "0          1              For Those About To Rock We Salute You         1\n",
       "1          2                                  Balls to the Wall         2\n",
       "2          3                                  Restless and Wild         2\n",
       "3          4                                  Let There Be Rock         1\n",
       "4          5                                           Big Ones         3\n",
       "..       ...                                                ...       ...\n",
       "342      343                             Respighi:Pines of Rome       226\n",
       "343      344  Schubert: The Late String Quartets & String Qu...       272\n",
       "344      345                                Monteverdi: L'Orfeo       273\n",
       "345      346                              Mozart: Chamber Music       274\n",
       "346      347  Koyaanisqatsi (Soundtrack from the Motion Pict...       275\n",
       "\n",
       "[347 rows x 3 columns]"
      ]
     },
     "execution_count": 6,
     "metadata": {},
     "output_type": "execute_result"
    }
   ],
   "source": [
    "# Selecting and overview of the Album table\n",
    "q = \"\"\"\n",
    "SELECT * FROM Album;\n",
    "\"\"\"\n",
    "\n",
    "pd.read_sql(q, conn)\n"
   ]
  },
  {
   "cell_type": "code",
   "execution_count": 7,
   "metadata": {},
   "outputs": [
    {
     "data": {
      "text/html": [
       "<div>\n",
       "<style scoped>\n",
       "    .dataframe tbody tr th:only-of-type {\n",
       "        vertical-align: middle;\n",
       "    }\n",
       "\n",
       "    .dataframe tbody tr th {\n",
       "        vertical-align: top;\n",
       "    }\n",
       "\n",
       "    .dataframe thead th {\n",
       "        text-align: right;\n",
       "    }\n",
       "</style>\n",
       "<table border=\"1\" class=\"dataframe\">\n",
       "  <thead>\n",
       "    <tr style=\"text-align: right;\">\n",
       "      <th></th>\n",
       "      <th>ArtistId</th>\n",
       "      <th>Name</th>\n",
       "    </tr>\n",
       "  </thead>\n",
       "  <tbody>\n",
       "    <tr>\n",
       "      <th>0</th>\n",
       "      <td>1</td>\n",
       "      <td>AC/DC</td>\n",
       "    </tr>\n",
       "    <tr>\n",
       "      <th>1</th>\n",
       "      <td>2</td>\n",
       "      <td>Accept</td>\n",
       "    </tr>\n",
       "    <tr>\n",
       "      <th>2</th>\n",
       "      <td>3</td>\n",
       "      <td>Aerosmith</td>\n",
       "    </tr>\n",
       "    <tr>\n",
       "      <th>3</th>\n",
       "      <td>4</td>\n",
       "      <td>Alanis Morissette</td>\n",
       "    </tr>\n",
       "    <tr>\n",
       "      <th>4</th>\n",
       "      <td>5</td>\n",
       "      <td>Alice In Chains</td>\n",
       "    </tr>\n",
       "    <tr>\n",
       "      <th>...</th>\n",
       "      <td>...</td>\n",
       "      <td>...</td>\n",
       "    </tr>\n",
       "    <tr>\n",
       "      <th>270</th>\n",
       "      <td>271</td>\n",
       "      <td>Mela Tenenbaum, Pro Musica Prague &amp; Richard Kapp</td>\n",
       "    </tr>\n",
       "    <tr>\n",
       "      <th>271</th>\n",
       "      <td>272</td>\n",
       "      <td>Emerson String Quartet</td>\n",
       "    </tr>\n",
       "    <tr>\n",
       "      <th>272</th>\n",
       "      <td>273</td>\n",
       "      <td>C. Monteverdi, Nigel Rogers - Chiaroscuro; Lon...</td>\n",
       "    </tr>\n",
       "    <tr>\n",
       "      <th>273</th>\n",
       "      <td>274</td>\n",
       "      <td>Nash Ensemble</td>\n",
       "    </tr>\n",
       "    <tr>\n",
       "      <th>274</th>\n",
       "      <td>275</td>\n",
       "      <td>Philip Glass Ensemble</td>\n",
       "    </tr>\n",
       "  </tbody>\n",
       "</table>\n",
       "<p>275 rows × 2 columns</p>\n",
       "</div>"
      ],
      "text/plain": [
       "     ArtistId                                               Name\n",
       "0           1                                              AC/DC\n",
       "1           2                                             Accept\n",
       "2           3                                          Aerosmith\n",
       "3           4                                  Alanis Morissette\n",
       "4           5                                    Alice In Chains\n",
       "..        ...                                                ...\n",
       "270       271   Mela Tenenbaum, Pro Musica Prague & Richard Kapp\n",
       "271       272                             Emerson String Quartet\n",
       "272       273  C. Monteverdi, Nigel Rogers - Chiaroscuro; Lon...\n",
       "273       274                                      Nash Ensemble\n",
       "274       275                              Philip Glass Ensemble\n",
       "\n",
       "[275 rows x 2 columns]"
      ]
     },
     "execution_count": 7,
     "metadata": {},
     "output_type": "execute_result"
    }
   ],
   "source": [
    "# Selecting and overview of the Artist table\n",
    "q = \"\"\"\n",
    "SELECT * FROM Artist;\n",
    "\"\"\"\n",
    "\n",
    "pd.read_sql(q, conn)"
   ]
  },
  {
   "cell_type": "markdown",
   "metadata": {},
   "source": [
    "### Observations from Artist and Album table\n",
    "- The Artist and Album table are linked together by the Artist ID.\n",
    "- Artist ID is a foreign key on Album table but a primary key on Artist table."
   ]
  },
  {
   "cell_type": "markdown",
   "metadata": {},
   "source": [
    "### 1.2) Write a query to return the last ten artists alphabetically."
   ]
  },
  {
   "cell_type": "code",
   "execution_count": 21,
   "metadata": {},
   "outputs": [
    {
     "data": {
      "text/html": [
       "<div>\n",
       "<style scoped>\n",
       "    .dataframe tbody tr th:only-of-type {\n",
       "        vertical-align: middle;\n",
       "    }\n",
       "\n",
       "    .dataframe tbody tr th {\n",
       "        vertical-align: top;\n",
       "    }\n",
       "\n",
       "    .dataframe thead th {\n",
       "        text-align: right;\n",
       "    }\n",
       "</style>\n",
       "<table border=\"1\" class=\"dataframe\">\n",
       "  <thead>\n",
       "    <tr style=\"text-align: right;\">\n",
       "      <th></th>\n",
       "      <th>Name</th>\n",
       "    </tr>\n",
       "  </thead>\n",
       "  <tbody>\n",
       "    <tr>\n",
       "      <th>0</th>\n",
       "      <td>Zeca Pagodinho</td>\n",
       "    </tr>\n",
       "    <tr>\n",
       "      <th>1</th>\n",
       "      <td>Youssou N'Dour</td>\n",
       "    </tr>\n",
       "    <tr>\n",
       "      <th>2</th>\n",
       "      <td>Yo-Yo Ma</td>\n",
       "    </tr>\n",
       "    <tr>\n",
       "      <th>3</th>\n",
       "      <td>Yehudi Menuhin</td>\n",
       "    </tr>\n",
       "    <tr>\n",
       "      <th>4</th>\n",
       "      <td>Xis</td>\n",
       "    </tr>\n",
       "    <tr>\n",
       "      <th>5</th>\n",
       "      <td>Wilhelm Kempff</td>\n",
       "    </tr>\n",
       "    <tr>\n",
       "      <th>6</th>\n",
       "      <td>Whitesnake</td>\n",
       "    </tr>\n",
       "    <tr>\n",
       "      <th>7</th>\n",
       "      <td>Vinícius E Qurteto Em Cy</td>\n",
       "    </tr>\n",
       "    <tr>\n",
       "      <th>8</th>\n",
       "      <td>Vinícius E Odette Lara</td>\n",
       "    </tr>\n",
       "    <tr>\n",
       "      <th>9</th>\n",
       "      <td>Vinícius De Moraes &amp; Baden Powell</td>\n",
       "    </tr>\n",
       "  </tbody>\n",
       "</table>\n",
       "</div>"
      ],
      "text/plain": [
       "                                Name\n",
       "0                     Zeca Pagodinho\n",
       "1                     Youssou N'Dour\n",
       "2                           Yo-Yo Ma\n",
       "3                     Yehudi Menuhin\n",
       "4                                Xis\n",
       "5                     Wilhelm Kempff\n",
       "6                         Whitesnake\n",
       "7           Vinícius E Qurteto Em Cy\n",
       "8             Vinícius E Odette Lara\n",
       "9  Vinícius De Moraes & Baden Powell"
      ]
     },
     "execution_count": 21,
     "metadata": {},
     "output_type": "execute_result"
    }
   ],
   "source": [
    "# CodeGrade step1.2\n",
    "# Replace None with appropriate code\n",
    "# Hint: Use the Artist table!\n",
    "\"\"\"\n",
    "In this case we will select the Name column\n",
    "and order it alphabetically in descending order\n",
    "      \"\"\"\n",
    "# Code to select the data to return\n",
    "first_query = \"\"\"\n",
    "SELECT Name\n",
    "FROM Artist\n",
    "ORDER BY Name DESC\n",
    "LIMIT 10;\"\"\"\n",
    "# storing the selected to a variable last_ten_artists\n",
    "last_ten_artists = pd.read_sql(first_query, conn)\n",
    "last_ten_artists"
   ]
  },
  {
   "cell_type": "code",
   "execution_count": 14,
   "metadata": {},
   "outputs": [],
   "source": [
    "# first_query should be a string\n",
    "assert type(first_query) == str\n",
    "\n",
    "# first_query should be a SQL query\n",
    "first_query_df = pd.read_sql(first_query, conn)"
   ]
  },
  {
   "cell_type": "markdown",
   "metadata": {},
   "source": [
    "### 1.3) Write a query to return all the albums in the database from Led Zeppelin."
   ]
  },
  {
   "cell_type": "code",
   "execution_count": 20,
   "metadata": {},
   "outputs": [
    {
     "data": {
      "text/html": [
       "<div>\n",
       "<style scoped>\n",
       "    .dataframe tbody tr th:only-of-type {\n",
       "        vertical-align: middle;\n",
       "    }\n",
       "\n",
       "    .dataframe tbody tr th {\n",
       "        vertical-align: top;\n",
       "    }\n",
       "\n",
       "    .dataframe thead th {\n",
       "        text-align: right;\n",
       "    }\n",
       "</style>\n",
       "<table border=\"1\" class=\"dataframe\">\n",
       "  <thead>\n",
       "    <tr style=\"text-align: right;\">\n",
       "      <th></th>\n",
       "      <th>Title</th>\n",
       "      <th>AlbumId</th>\n",
       "      <th>Name</th>\n",
       "    </tr>\n",
       "  </thead>\n",
       "  <tbody>\n",
       "    <tr>\n",
       "      <th>0</th>\n",
       "      <td>BBC Sessions [Disc 1] [Live]</td>\n",
       "      <td>30</td>\n",
       "      <td>Led Zeppelin</td>\n",
       "    </tr>\n",
       "    <tr>\n",
       "      <th>1</th>\n",
       "      <td>Physical Graffiti [Disc 1]</td>\n",
       "      <td>44</td>\n",
       "      <td>Led Zeppelin</td>\n",
       "    </tr>\n",
       "    <tr>\n",
       "      <th>2</th>\n",
       "      <td>BBC Sessions [Disc 2] [Live]</td>\n",
       "      <td>127</td>\n",
       "      <td>Led Zeppelin</td>\n",
       "    </tr>\n",
       "    <tr>\n",
       "      <th>3</th>\n",
       "      <td>Coda</td>\n",
       "      <td>128</td>\n",
       "      <td>Led Zeppelin</td>\n",
       "    </tr>\n",
       "    <tr>\n",
       "      <th>4</th>\n",
       "      <td>Houses Of The Holy</td>\n",
       "      <td>129</td>\n",
       "      <td>Led Zeppelin</td>\n",
       "    </tr>\n",
       "    <tr>\n",
       "      <th>5</th>\n",
       "      <td>In Through The Out Door</td>\n",
       "      <td>130</td>\n",
       "      <td>Led Zeppelin</td>\n",
       "    </tr>\n",
       "    <tr>\n",
       "      <th>6</th>\n",
       "      <td>IV</td>\n",
       "      <td>131</td>\n",
       "      <td>Led Zeppelin</td>\n",
       "    </tr>\n",
       "    <tr>\n",
       "      <th>7</th>\n",
       "      <td>Led Zeppelin I</td>\n",
       "      <td>132</td>\n",
       "      <td>Led Zeppelin</td>\n",
       "    </tr>\n",
       "    <tr>\n",
       "      <th>8</th>\n",
       "      <td>Led Zeppelin II</td>\n",
       "      <td>133</td>\n",
       "      <td>Led Zeppelin</td>\n",
       "    </tr>\n",
       "    <tr>\n",
       "      <th>9</th>\n",
       "      <td>Led Zeppelin III</td>\n",
       "      <td>134</td>\n",
       "      <td>Led Zeppelin</td>\n",
       "    </tr>\n",
       "    <tr>\n",
       "      <th>10</th>\n",
       "      <td>Physical Graffiti [Disc 2]</td>\n",
       "      <td>135</td>\n",
       "      <td>Led Zeppelin</td>\n",
       "    </tr>\n",
       "    <tr>\n",
       "      <th>11</th>\n",
       "      <td>Presence</td>\n",
       "      <td>136</td>\n",
       "      <td>Led Zeppelin</td>\n",
       "    </tr>\n",
       "    <tr>\n",
       "      <th>12</th>\n",
       "      <td>The Song Remains The Same (Disc 1)</td>\n",
       "      <td>137</td>\n",
       "      <td>Led Zeppelin</td>\n",
       "    </tr>\n",
       "    <tr>\n",
       "      <th>13</th>\n",
       "      <td>The Song Remains The Same (Disc 2)</td>\n",
       "      <td>138</td>\n",
       "      <td>Led Zeppelin</td>\n",
       "    </tr>\n",
       "  </tbody>\n",
       "</table>\n",
       "</div>"
      ],
      "text/plain": [
       "                                 Title  AlbumId          Name\n",
       "0         BBC Sessions [Disc 1] [Live]       30  Led Zeppelin\n",
       "1           Physical Graffiti [Disc 1]       44  Led Zeppelin\n",
       "2         BBC Sessions [Disc 2] [Live]      127  Led Zeppelin\n",
       "3                                 Coda      128  Led Zeppelin\n",
       "4                   Houses Of The Holy      129  Led Zeppelin\n",
       "5              In Through The Out Door      130  Led Zeppelin\n",
       "6                                   IV      131  Led Zeppelin\n",
       "7                       Led Zeppelin I      132  Led Zeppelin\n",
       "8                      Led Zeppelin II      133  Led Zeppelin\n",
       "9                     Led Zeppelin III      134  Led Zeppelin\n",
       "10          Physical Graffiti [Disc 2]      135  Led Zeppelin\n",
       "11                            Presence      136  Led Zeppelin\n",
       "12  The Song Remains The Same (Disc 1)      137  Led Zeppelin\n",
       "13  The Song Remains The Same (Disc 2)      138  Led Zeppelin"
      ]
     },
     "execution_count": 20,
     "metadata": {},
     "output_type": "execute_result"
    }
   ],
   "source": [
    "# CodeGrade step1.3\n",
    "# Replace None with appropriate code\n",
    "# Hint: Use the Artist and Album tables!\n",
    "\n",
    "\"\"\"\n",
    "To return only Led Zeppelin albums,we will have to Join the \n",
    "Album and Artist table\n",
    "      \"\"\"\n",
    "\n",
    "second_query = \"\"\"\n",
    "SELECT al.Title, al.AlbumId, ar.Name\n",
    "FROM Album AS al\n",
    "JOIN Artist AS ar ON al.ArtistId = ar.ArtistId\n",
    "WHERE ar.Name = 'Led Zeppelin'\n",
    "\"\"\"\n",
    "\n",
    "Zeppelin_albums= pd.read_sql(second_query, conn)\n",
    "Zeppelin_albums"
   ]
  },
  {
   "cell_type": "markdown",
   "metadata": {},
   "source": [
    "- Insights : Led Zeppelin has a total of 14 albums"
   ]
  },
  {
   "cell_type": "code",
   "execution_count": 17,
   "metadata": {},
   "outputs": [],
   "source": [
    "# second_query should be a string\n",
    "assert type(second_query) == str\n",
    "\n",
    "# second_query should be a SQL query\n",
    "second_query_df = pd.read_sql(second_query, conn)"
   ]
  },
  {
   "cell_type": "markdown",
   "metadata": {},
   "source": [
    "### 1.4) Write a query to return both the artist with the most albums in the database and the number of albums."
   ]
  },
  {
   "cell_type": "code",
   "execution_count": 25,
   "metadata": {},
   "outputs": [
    {
     "data": {
      "text/html": [
       "<div>\n",
       "<style scoped>\n",
       "    .dataframe tbody tr th:only-of-type {\n",
       "        vertical-align: middle;\n",
       "    }\n",
       "\n",
       "    .dataframe tbody tr th {\n",
       "        vertical-align: top;\n",
       "    }\n",
       "\n",
       "    .dataframe thead th {\n",
       "        text-align: right;\n",
       "    }\n",
       "</style>\n",
       "<table border=\"1\" class=\"dataframe\">\n",
       "  <thead>\n",
       "    <tr style=\"text-align: right;\">\n",
       "      <th></th>\n",
       "      <th>Name</th>\n",
       "      <th>album_count</th>\n",
       "    </tr>\n",
       "  </thead>\n",
       "  <tbody>\n",
       "    <tr>\n",
       "      <th>0</th>\n",
       "      <td>Iron Maiden</td>\n",
       "      <td>21</td>\n",
       "    </tr>\n",
       "  </tbody>\n",
       "</table>\n",
       "</div>"
      ],
      "text/plain": [
       "          Name  album_count\n",
       "0  Iron Maiden           21"
      ]
     },
     "execution_count": 25,
     "metadata": {},
     "output_type": "execute_result"
    }
   ],
   "source": [
    "# CodeGrade step1.4\n",
    "# Replace None with appropriate code\n",
    "\"\"\"\n",
    "We perform count on albumIDs, group by artist Name\n",
    "and order by descending, we use limit to select only 1\n",
    "return the first value in this case\n",
    "      \"\"\"\n",
    "\n",
    "third_query = \"\"\"\n",
    "SELECT ar.name, COUNT(al.AlbumId) AS album_count\n",
    "FROM Artist AS ar\n",
    "JOIN Album AS al ON ar.ArtistId = al.ArtistId\n",
    "GROUP BY ar.Name\n",
    "ORDER BY album_count DESC\n",
    "LIMIT 1\n",
    "\"\"\"\n",
    "\n",
    "artist_most_albums = pd.read_sql(third_query, conn)\n",
    "artist_most_albums"
   ]
  },
  {
   "cell_type": "markdown",
   "metadata": {},
   "source": [
    "- Iron Maiden is the artist with the most albums with a total of 21"
   ]
  },
  {
   "cell_type": "code",
   "execution_count": 26,
   "metadata": {},
   "outputs": [],
   "source": [
    "# third_query should be a string\n",
    "assert type(third_query) == str\n",
    "\n",
    "# third_query should be a SQL query\n",
    "third_query_df = pd.read_sql(third_query, conn)"
   ]
  },
  {
   "cell_type": "code",
   "execution_count": 27,
   "metadata": {},
   "outputs": [],
   "source": [
    "conn.close()"
   ]
  },
  {
   "cell_type": "markdown",
   "metadata": {
    "nbgrader": {
     "grade": false,
     "grade_id": "cell-b6008343ed116f03",
     "locked": true,
     "schema_version": 3,
     "solution": false,
     "task": false
    }
   },
   "source": [
    "---\n",
    "## Part 2: Bayesian Statistics [Suggested time: 15 minutes]\n",
    "---\n",
    "\n",
    "A medical test is designed to diagnose a certain disease. The test has a false positive rate of 10%, meaning that 10% of people without the disease will get a positive test result. The test has a false negative rate of 2%, meaning that 2% of people with the disease will get a negative result. Only 1% of the population has this disease."
   ]
  },
  {
   "cell_type": "markdown",
   "metadata": {
    "nbgrader": {
     "grade": false,
     "grade_id": "cell-b6008343ed116f03",
     "locked": true,
     "schema_version": 3,
     "solution": false,
     "task": false
    }
   },
   "source": [
    "### 2.1) Create a numeric variable `p_pos_test` containing the probability of a person receiving a positive test result.\n",
    "\n",
    "Assume that the person being tested is randomly selected from the broader population."
   ]
  },
  {
   "cell_type": "code",
   "execution_count": null,
   "metadata": {
    "nbgrader": {
     "grade": false,
     "grade_id": "cell-b6008343ed116f03",
     "locked": true,
     "schema_version": 3,
     "solution": false,
     "task": false
    }
   },
   "outputs": [],
   "source": [
    "# CodeGrade step2.1\n",
    "# Replace None with appropriate code\n",
    "    \n",
    "false_pos_rate = 0.1\n",
    "false_neg_rate = 0.02\n",
    "population_rate = 0.01\n",
    "\n",
    "p_pos_test = None"
   ]
  },
  {
   "cell_type": "code",
   "execution_count": null,
   "metadata": {
    "nbgrader": {
     "grade": false,
     "grade_id": "cell-b6008343ed116f03",
     "locked": true,
     "schema_version": 3,
     "solution": false,
     "task": false
    }
   },
   "outputs": [],
   "source": [
    "# This test confirms that you have created a numeric variable named p_pos_test\n",
    "\n",
    "assert isinstance(p_pos_test, Number)"
   ]
  },
  {
   "cell_type": "code",
   "execution_count": null,
   "metadata": {
    "nbgrader": {
     "grade": false,
     "grade_id": "cell-b6008343ed116f03",
     "locked": true,
     "schema_version": 3,
     "solution": false,
     "task": false
    }
   },
   "outputs": [],
   "source": [
    "# These tests confirm that p_pos_test is a value between 0 and 1\n",
    "\n",
    "assert p_pos_test >= 0\n",
    "assert p_pos_test <= 1"
   ]
  },
  {
   "cell_type": "markdown",
   "metadata": {
    "nbgrader": {
     "grade": false,
     "grade_id": "cell-b6008343ed116f03",
     "locked": true,
     "schema_version": 3,
     "solution": false,
     "task": false
    }
   },
   "source": [
    "### 2.2) Create a numeric variable `p_disease_given_pos` containing the probability of a person actually having the disease if they receive a positive test result.\n",
    "\n",
    "Assume that the person being tested is randomly selected from the broader population.\n",
    "\n",
    "Hint: Use your answer to the previous question to help answer this one."
   ]
  },
  {
   "cell_type": "code",
   "execution_count": null,
   "metadata": {
    "nbgrader": {
     "grade": false,
     "grade_id": "cell-b6008343ed116f03",
     "locked": true,
     "schema_version": 3,
     "solution": false,
     "task": false
    }
   },
   "outputs": [],
   "source": [
    "# CodeGrade step2.2\n",
    "# Replace None with appropriate code\n",
    "    \n",
    "false_pos_rate = 0.1\n",
    "false_neg_rate = 0.02\n",
    "population_rate = 0.01\n",
    "\n",
    "p_disease_given_pos = None"
   ]
  },
  {
   "cell_type": "code",
   "execution_count": null,
   "metadata": {
    "nbgrader": {
     "grade": false,
     "grade_id": "cell-b6008343ed116f03",
     "locked": true,
     "schema_version": 3,
     "solution": false,
     "task": false
    }
   },
   "outputs": [],
   "source": [
    "# This test confirms that you have created a numeric variable named p_disease_given_pos\n",
    "\n",
    "assert isinstance(p_disease_given_pos, Number)"
   ]
  },
  {
   "cell_type": "code",
   "execution_count": null,
   "metadata": {
    "nbgrader": {
     "grade": false,
     "grade_id": "cell-b6008343ed116f03",
     "locked": true,
     "schema_version": 3,
     "solution": false,
     "task": false
    }
   },
   "outputs": [],
   "source": [
    "# These tests confirm that p_disease_given_pos is a value between 0 and 1\n",
    "\n",
    "assert p_disease_given_pos >= 0\n",
    "assert p_disease_given_pos <= 1"
   ]
  },
  {
   "cell_type": "markdown",
   "metadata": {
    "nbgrader": {
     "grade": false,
     "grade_id": "cell-312fddb195007e20",
     "locked": true,
     "schema_version": 3,
     "solution": false,
     "task": false
    }
   },
   "source": [
    "---\n",
    "## Part 3: Normal Distribution [Suggested time: 20 minutes]\n",
    "---\n",
    "In this part, you will analyze check totals at a TexMex restaurant. We know that the population distribution of check totals for the TexMex restaurant is normally distributed with a mean of \\\\$20 and a standard deviation of \\\\$3. "
   ]
  },
  {
   "cell_type": "markdown",
   "metadata": {
    "nbgrader": {
     "grade": false,
     "grade_id": "cell-46b6b6254aeeff59",
     "locked": true,
     "schema_version": 3,
     "solution": false,
     "task": false
    }
   },
   "source": [
    "### 3.1) Create a numeric variable `z_score_26` containing the z-score for a \\\\$26 check. "
   ]
  },
  {
   "cell_type": "code",
   "execution_count": 35,
   "metadata": {
    "nbgrader": {
     "grade": false,
     "grade_id": "cell-ef9660b9613a17a4",
     "locked": true,
     "schema_version": 3,
     "solution": false,
     "task": false
    }
   },
   "outputs": [
    {
     "data": {
      "text/plain": [
       "2.0"
      ]
     },
     "execution_count": 35,
     "metadata": {},
     "output_type": "execute_result"
    }
   ],
   "source": [
    "# CodeGrade step3.1\n",
    "# Replace None with appropriate code\n",
    "# Population mean\n",
    "mu = 20\n",
    "# Population standard deviation\n",
    "sigma = 3\n",
    "# Value to check\n",
    "value_check = 26\n",
    "\n",
    "# z-score will be calculated as below formula\n",
    "z_score_26 = (value_check-mu)/sigma\n",
    "z_score_26"
   ]
  },
  {
   "cell_type": "code",
   "execution_count": 36,
   "metadata": {},
   "outputs": [],
   "source": [
    "# This test confirms that you have created a numeric variable named z_score_26\n",
    "\n",
    "assert isinstance(z_score_26, Number)"
   ]
  },
  {
   "cell_type": "markdown",
   "metadata": {
    "nbgrader": {
     "grade": false,
     "grade_id": "cell-42d5460165295bb7",
     "locked": true,
     "schema_version": 3,
     "solution": false,
     "task": false
    }
   },
   "source": [
    "### 3.2) Create a numeric variable `p_under_26` containing the approximate proportion of all checks that are less than \\\\$26.\n",
    "\n",
    "Hint: Use the answer from the previous question along with the empirical rule, a Python function, or this [z-table](https://www.math.arizona.edu/~rsims/ma464/standardnormaltable.pdf)."
   ]
  },
  {
   "cell_type": "code",
   "execution_count": 37,
   "metadata": {
    "nbgrader": {
     "grade": false,
     "grade_id": "cell-999dca2e2a1e09ba",
     "locked": true,
     "schema_version": 3,
     "solution": false,
     "task": false
    }
   },
   "outputs": [
    {
     "data": {
      "text/plain": [
       "0.9772498680518208"
      ]
     },
     "execution_count": 37,
     "metadata": {},
     "output_type": "execute_result"
    }
   ],
   "source": [
    "# CodeGrade step3.2\n",
    "# Replace None with appropriate code\n",
    "# will use the cdf function as we already have the z_score_26 value which is 2.0\n",
    "p_under_26 = stats.norm.cdf(z_score_26)\n",
    "p_under_26"
   ]
  },
  {
   "cell_type": "code",
   "execution_count": 38,
   "metadata": {},
   "outputs": [],
   "source": [
    "# This test confirms that you have created a numeric variable named p_under_26\n",
    "\n",
    "assert isinstance(p_under_26, Number)\n",
    "\n",
    "# These tests confirm that p_under_26 is a value between 0 and 1\n",
    "\n",
    "assert p_under_26 >= 0\n",
    "assert p_under_26 <= 1"
   ]
  },
  {
   "cell_type": "markdown",
   "metadata": {
    "nbgrader": {
     "grade": false,
     "grade_id": "cell-b20994e953b823df",
     "locked": true,
     "schema_version": 3,
     "solution": false,
     "task": false
    }
   },
   "source": [
    "### 3.3) Create numeric variables `conf_low` and `conf_high` containing the lower and upper bounds (respectively) of a 95% confidence interval for the mean of one waiter's check amounts using the information below. \n",
    "\n",
    "One week, a waiter gets 100 checks with a mean of \\\\$19 and a standard deviation of \\\\$3."
   ]
  },
  {
   "cell_type": "code",
   "execution_count": 45,
   "metadata": {
    "nbgrader": {
     "grade": false,
     "grade_id": "cell-a4925898f2c5bfb5",
     "locked": true,
     "schema_version": 3,
     "solution": false,
     "task": false
    }
   },
   "outputs": [
    {
     "data": {
      "text/plain": [
       "1.959963984540054"
      ]
     },
     "execution_count": 45,
     "metadata": {},
     "output_type": "execute_result"
    }
   ],
   "source": [
    "# CodeGrade step3.3\n",
    "# Replace None with appropriate code\n",
    "\n",
    "# Given parameters for the sample\n",
    "n = 100  # Sample size\n",
    "mean = 19  # Sample mean\n",
    "std_dev = 3  # Sample standard deviation\n",
    "\n",
    "# We calculate the z_score \n",
    "z_score = stats.norm.ppf(1 - 0.025)  # Z-score for 95% confidence\n",
    "z_score\n"
   ]
  },
  {
   "cell_type": "code",
   "execution_count": 46,
   "metadata": {},
   "outputs": [
    {
     "data": {
      "text/plain": [
       "(18.412010804637983, 19.587989195362017)"
      ]
     },
     "execution_count": 46,
     "metadata": {},
     "output_type": "execute_result"
    }
   ],
   "source": [
    "# Calculate standard error\n",
    "standard_error = std_dev / np.sqrt(n)\n",
    "\n",
    "# Calculate margin of error\n",
    "margin_of_error = z_score * standard_error\n",
    "\n",
    "# Calculate confidence interval bounds\n",
    "conf_low = mean - margin_of_error\n",
    "conf_high = mean + margin_of_error\n",
    "\n",
    "# Output the confidence interval bounds\n",
    "(conf_low, conf_high)"
   ]
  },
  {
   "cell_type": "code",
   "execution_count": 47,
   "metadata": {},
   "outputs": [
    {
     "name": "stdout",
     "output_type": "stream",
     "text": [
      "The lower bound of the 95% confidence interval is 18.412010804637983\n",
      "The upper bound of the 95% confidence interval is 19.587989195362017\n"
     ]
    }
   ],
   "source": [
    "# These tests confirm that you have created numeric variables named conf_low and conf_high\n",
    "\n",
    "assert isinstance(conf_low, Number)\n",
    "assert isinstance(conf_high, Number)\n",
    "\n",
    "# This test confirms that conf_low is below conf_high\n",
    "\n",
    "assert conf_low < conf_high\n",
    "\n",
    "# These statements print your answers for reference to help answer the next question\n",
    "\n",
    "print('The lower bound of the 95% confidence interval is {}'.format(conf_low))\n",
    "print('The upper bound of the 95% confidence interval is {}'.format(conf_high))"
   ]
  },
  {
   "cell_type": "markdown",
   "metadata": {
    "nbgrader": {
     "grade": false,
     "grade_id": "cell-fb9ed0f70c9bd8de",
     "locked": true,
     "schema_version": 3,
     "solution": false,
     "task": false
    }
   },
   "source": [
    "### 3.4) Short Answer: Interpret the 95% confidence interval you just calculated in Question 1.3."
   ]
  },
  {
   "cell_type": "markdown",
   "metadata": {},
   "source": [
    "# Your answer here\n",
    "- We are 95 % confident that the average check amount (true mean) for this particular waiter\n",
    "lies between $18.41 and $19.59.\n",
    "\n"
   ]
  },
  {
   "cell_type": "markdown",
   "metadata": {
    "nbgrader": {
     "grade": false,
     "grade_id": "cell-782ab283e22ce5ae",
     "locked": true,
     "schema_version": 3,
     "solution": false,
     "task": false
    }
   },
   "source": [
    "---\n",
    "## Part 4: Statistical Testing [Suggested time: 20 minutes]\n",
    "---\n",
    "The TexMex restaurant recently introduced queso to its menu.\n",
    "\n",
    "We have a random sample containing 2000 check totals, all from different customers: 1000 check totals for orders without queso (\"no queso\") and 1000 check totals for orders with queso (\"queso\").\n",
    "\n",
    "In the cell below, we load the sample data for you into the arrays `no_queso` and `queso` for the \"no queso\" and \"queso\" order check totals, respectively."
   ]
  },
  {
   "cell_type": "code",
   "execution_count": 49,
   "metadata": {
    "nbgrader": {
     "grade": false,
     "grade_id": "cell-fdba1826c45c244d",
     "locked": true,
     "schema_version": 3,
     "solution": false,
     "task": false
    },
    "scrolled": true
   },
   "outputs": [],
   "source": [
    "# Run this cell without changes\n",
    "\n",
    "# Load the sample data \n",
    "no_queso = pickle.load(open('./no_queso.pkl', 'rb'))\n",
    "queso = pickle.load(open('./queso.pkl', 'rb'))"
   ]
  },
  {
   "cell_type": "markdown",
   "metadata": {
    "nbgrader": {
     "grade": false,
     "grade_id": "cell-05f7dc82e438a77f",
     "locked": true,
     "schema_version": 3,
     "solution": false,
     "task": false
    }
   },
   "source": [
    "### 4.1) Short Answer: State null and alternative hypotheses to use for testing whether customers who order queso spend different amounts of money from customers who do not order queso."
   ]
  },
  {
   "cell_type": "markdown",
   "metadata": {},
   "source": [
    "# Your answer here\n",
    "\n"
   ]
  },
  {
   "cell_type": "markdown",
   "metadata": {
    "nbgrader": {
     "grade": false,
     "grade_id": "cell-483bc2fff57780fa",
     "locked": true,
     "schema_version": 3,
     "solution": false,
     "task": false
    }
   },
   "source": [
    "### 4.2) Short Answer: What would it mean to make a Type I error for this specific hypothesis test?\n",
    "\n",
    "Your answer should be _specific to this context,_  not a general statement of what Type I error is."
   ]
  },
  {
   "cell_type": "markdown",
   "metadata": {},
   "source": [
    "# Your answer here\n",
    "\n"
   ]
  },
  {
   "cell_type": "markdown",
   "metadata": {
    "nbgrader": {
     "grade": false,
     "grade_id": "cell-b044519654b42877",
     "locked": true,
     "schema_version": 3,
     "solution": false,
     "task": false
    }
   },
   "source": [
    "### 4.3) Create a numeric variable `p_value` containing the p-value associated with a statistical test of your hypotheses. \n",
    "\n",
    "You must identify and implement the correct statistical test for this scenario. You can assume the two samples have equal variances.\n",
    "\n",
    "Hint: Use `scipy.stats` to calculate the answer - it has already been imported as `stats`. Relevant documentation can be found [here](https://docs.scipy.org/doc/scipy/reference/stats.html#statistical-tests)."
   ]
  },
  {
   "cell_type": "code",
   "execution_count": null,
   "metadata": {
    "nbgrader": {
     "grade": false,
     "grade_id": "cell-db4a0aa68c4107d0",
     "locked": true,
     "schema_version": 3,
     "solution": false,
     "task": false
    }
   },
   "outputs": [],
   "source": [
    "# CodeGrade step4.3\n",
    "# Replace None with appropriate code\n",
    "\n",
    "p_value = None"
   ]
  },
  {
   "cell_type": "code",
   "execution_count": null,
   "metadata": {},
   "outputs": [],
   "source": [
    "# This test confirms that you have created a numeric variable named p_value\n",
    "\n",
    "assert isinstance(p_value, Number)"
   ]
  },
  {
   "cell_type": "markdown",
   "metadata": {
    "nbgrader": {
     "grade": false,
     "grade_id": "cell-98db6e15784f2ead",
     "locked": true,
     "schema_version": 3,
     "solution": false,
     "task": false
    }
   },
   "source": [
    "### 4.4) Short Answer: Can you reject the null hypothesis using a significance level of $\\alpha$ = 0.05? Explain why or why not."
   ]
  },
  {
   "cell_type": "markdown",
   "metadata": {},
   "source": [
    "# Your answer here\n"
   ]
  }
 ],
 "metadata": {
  "celltoolbar": "Create Assignment",
  "kernelspec": {
   "display_name": "learn-env",
   "language": "python",
   "name": "python3"
  },
  "language_info": {
   "codemirror_mode": {
    "name": "ipython",
    "version": 3
   },
   "file_extension": ".py",
   "mimetype": "text/x-python",
   "name": "python",
   "nbconvert_exporter": "python",
   "pygments_lexer": "ipython3",
   "version": "3.8.5"
  },
  "toc": {
   "base_numbering": 1,
   "nav_menu": {},
   "number_sections": true,
   "sideBar": true,
   "skip_h1_title": false,
   "title_cell": "Table of Contents",
   "title_sidebar": "Contents",
   "toc_cell": false,
   "toc_position": {},
   "toc_section_display": true,
   "toc_window_display": false
  }
 },
 "nbformat": 4,
 "nbformat_minor": 4
}
